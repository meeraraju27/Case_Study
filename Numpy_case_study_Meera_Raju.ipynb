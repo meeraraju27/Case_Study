{
  "nbformat": 4,
  "nbformat_minor": 0,
  "metadata": {
    "colab": {
      "provenance": [],
      "collapsed_sections": [
        "0FT8KhmQM8Le",
        "NdQli1kfOx_K",
        "sgdWV7W_Sbks"
      ],
      "authorship_tag": "ABX9TyOH4zwfdcm0HPA5Q2blTK28",
      "include_colab_link": true
    },
    "kernelspec": {
      "name": "python3",
      "display_name": "Python 3"
    },
    "language_info": {
      "name": "python"
    }
  },
  "cells": [
    {
      "cell_type": "markdown",
      "metadata": {
        "id": "view-in-github",
        "colab_type": "text"
      },
      "source": [
        "<a href=\"https://colab.research.google.com/github/meeraraju27/Case_Study/blob/main/Numpy_case_study_Meera_Raju.ipynb\" target=\"_parent\"><img src=\"https://colab.research.google.com/assets/colab-badge.svg\" alt=\"Open In Colab\"/></a>"
      ]
    },
    {
      "cell_type": "code",
      "execution_count": 2,
      "metadata": {
        "id": "RmGZY0c4MhkA"
      },
      "outputs": [],
      "source": [
        "import numpy as np"
      ]
    },
    {
      "cell_type": "markdown",
      "source": [
        "###1. Create a NumPy array with values from 10 to 49 (inclusive).\n",
        "● Reshape it into a 4x10 matrix.\n",
        "● Then extract the last column from the reshaped matrix"
      ],
      "metadata": {
        "id": "0FT8KhmQM8Le"
      }
    },
    {
      "cell_type": "code",
      "source": [
        "A1 = np.arange(10,50)\n",
        "print(A1)"
      ],
      "metadata": {
        "colab": {
          "base_uri": "https://localhost:8080/"
        },
        "id": "XPcKbriiMvhx",
        "outputId": "6f2a5d7a-10eb-4d17-f69b-e0d484094577"
      },
      "execution_count": 2,
      "outputs": [
        {
          "output_type": "stream",
          "name": "stdout",
          "text": [
            "[10 11 12 13 14 15 16 17 18 19 20 21 22 23 24 25 26 27 28 29 30 31 32 33\n",
            " 34 35 36 37 38 39 40 41 42 43 44 45 46 47 48 49]\n"
          ]
        }
      ]
    },
    {
      "cell_type": "code",
      "source": [
        "A2 = np.reshape(A1,(4,10))\n",
        "print (A2)"
      ],
      "metadata": {
        "colab": {
          "base_uri": "https://localhost:8080/"
        },
        "id": "SmeyVwN8NLuA",
        "outputId": "8d814480-9b24-4337-d205-266a5ca619e4"
      },
      "execution_count": 3,
      "outputs": [
        {
          "output_type": "stream",
          "name": "stdout",
          "text": [
            "[[10 11 12 13 14 15 16 17 18 19]\n",
            " [20 21 22 23 24 25 26 27 28 29]\n",
            " [30 31 32 33 34 35 36 37 38 39]\n",
            " [40 41 42 43 44 45 46 47 48 49]]\n"
          ]
        }
      ]
    },
    {
      "cell_type": "code",
      "source": [
        "last = A2[:,-1]\n",
        "print(\"Last column :\",last)"
      ],
      "metadata": {
        "colab": {
          "base_uri": "https://localhost:8080/"
        },
        "id": "yArsyiHhNjGQ",
        "outputId": "341379f8-94a6-4f13-c7b8-75c23ef83547"
      },
      "execution_count": 11,
      "outputs": [
        {
          "output_type": "stream",
          "name": "stdout",
          "text": [
            "Last column : [19 29 39 49]\n"
          ]
        }
      ]
    },
    {
      "cell_type": "markdown",
      "source": [
        "###2. Create two 3×3 matrices:\n",
        "###One filled with all 5s , One with values from 1 to 9\n",
        "● Add the two matrices\n",
        "● Multiply them element-wise\n",
        "● Then find the transpose of the result\n",
        "-----------------------------------------------------------------"
      ],
      "metadata": {
        "id": "NdQli1kfOx_K"
      }
    },
    {
      "cell_type": "code",
      "source": [
        "B1 = np.full((3,3),5)\n",
        "print(\"B1\\n\",B1)\n",
        "B2 = np.arange(1,10).reshape(3,3)\n",
        "print(\"B2\\n\",B2)"
      ],
      "metadata": {
        "colab": {
          "base_uri": "https://localhost:8080/"
        },
        "id": "ZQH9ULMPO5UD",
        "outputId": "11a33f84-7802-45a6-ac82-f87d6aa269b4"
      },
      "execution_count": 27,
      "outputs": [
        {
          "output_type": "stream",
          "name": "stdout",
          "text": [
            "B1\n",
            " [[5 5 5]\n",
            " [5 5 5]\n",
            " [5 5 5]]\n",
            "B2\n",
            " [[1 2 3]\n",
            " [4 5 6]\n",
            " [7 8 9]]\n"
          ]
        }
      ]
    },
    {
      "cell_type": "code",
      "source": [
        "Sum_matrix = B1 + B2\n",
        "print(\"Sum_matrix\\n\",Sum_matrix)\n",
        "\n",
        "Pdct_matrix = B1 * B2\n",
        "print(\"\\nPdct_matrix\\n\",Pdct_matrix)\n",
        "\n",
        "T_matrix = np.transpose(Pdct_matrix)\n",
        "print(\"\\nT_matrix\\n\",T_matrix)\n"
      ],
      "metadata": {
        "colab": {
          "base_uri": "https://localhost:8080/"
        },
        "id": "fcMbmh-NP3VL",
        "outputId": "44ff0684-c9cd-4057-8f5c-237322dbd1c4"
      },
      "execution_count": 30,
      "outputs": [
        {
          "output_type": "stream",
          "name": "stdout",
          "text": [
            "Sum_matrix\n",
            " [[ 6  7  8]\n",
            " [ 9 10 11]\n",
            " [12 13 14]]\n",
            "\n",
            "Pdct_matrix\n",
            " [[ 5 10 15]\n",
            " [20 25 30]\n",
            " [35 40 45]]\n",
            "\n",
            "T_matrix\n",
            " [[ 5 20 35]\n",
            " [10 25 40]\n",
            " [15 30 45]]\n"
          ]
        }
      ]
    },
    {
      "cell_type": "code",
      "source": [],
      "metadata": {
        "id": "CVt5mUl2QpLV"
      },
      "execution_count": null,
      "outputs": []
    },
    {
      "cell_type": "markdown",
      "source": [
        "###3. Create a NumPy array of 15 random integers between 10 and 100.\n",
        "● Replace all values greater than 50 with -1\n",
        "● Count how many values were replaced.\n"
      ],
      "metadata": {
        "id": "sgdWV7W_Sbks"
      }
    },
    {
      "cell_type": "code",
      "source": [
        "import random"
      ],
      "metadata": {
        "id": "spr71Du0Td-J"
      },
      "execution_count": 32,
      "outputs": []
    },
    {
      "cell_type": "code",
      "source": [
        "r_array = np.random.randint(10,100,size = 15)\n",
        "print(r_array)\n",
        "\n",
        "replaced = r_array > 50           # Boolean mask\n",
        "r_array[replaced] = -1\n",
        "print(\"Modified array:\", r_array)\n",
        "\n",
        "count = np.sum(replaced)\n",
        "print(\"Count of values replaced:\", count)"
      ],
      "metadata": {
        "colab": {
          "base_uri": "https://localhost:8080/"
        },
        "id": "_4T_M6FsSf-u",
        "outputId": "adac60bf-0ee8-4d94-b74f-0043981fd59c"
      },
      "execution_count": 37,
      "outputs": [
        {
          "output_type": "stream",
          "name": "stdout",
          "text": [
            "[68 49 37 83 95 16 86 48 19 98 52 21 37 83 35]\n",
            "Modified array: [-1 49 37 -1 -1 16 -1 48 19 -1 -1 21 37 -1 35]\n",
            "Count of values replaced: 7\n"
          ]
        }
      ]
    },
    {
      "cell_type": "markdown",
      "source": [
        "###4.Generate a 5×4 array with random values between 0 and 1 (float).\n",
        "● Find the row with the maximum sum of values.\n",
        "● Normalize each row using the formula:"
      ],
      "metadata": {
        "id": "Vg5UxjWWUphB"
      }
    },
    {
      "cell_type": "code",
      "source": [
        "r1_array = np.random.random((5,4))\n",
        "print(r1_array)"
      ],
      "metadata": {
        "colab": {
          "base_uri": "https://localhost:8080/"
        },
        "id": "AtA73ehvTahI",
        "outputId": "abe54bb2-9143-43f0-8834-6bdde0272593"
      },
      "execution_count": 40,
      "outputs": [
        {
          "output_type": "stream",
          "name": "stdout",
          "text": [
            "[[0.121003   0.97414355 0.27854337 0.56532593]\n",
            " [0.76487362 0.5418977  0.76106741 0.98149433]\n",
            " [0.2383731  0.94960683 0.6220087  0.00159972]\n",
            " [0.19095723 0.15386812 0.91041404 0.90041614]\n",
            " [0.68095362 0.50742509 0.7942478  0.88126521]]\n"
          ]
        }
      ]
    },
    {
      "cell_type": "code",
      "source": [
        "r1_row_sum = np.sum(r1_array,axis = 1)\n",
        "print(\"\\nrow sums = \",r1_row_sum)\n",
        "\n",
        "max_row_index = np.argmax(r1_row_sum)\n",
        "print(\"\\nRow index with max sum = \",max_row_index)\n",
        "print(\"\\nRow with max sum = \",r1_array[max_row_index])\n",
        "\n",
        "# Normalize each row\n",
        "row_min = r1_array.min(axis=1).reshape(-1, 1)\n",
        "row_max = r1_array.max(axis=1).reshape(-1, 1)\n",
        "\n",
        "normalized = (r1_array - row_min) / (row_max - row_min)\n",
        "print(\"\\nNormalized Array:\\n\", normalized)"
      ],
      "metadata": {
        "colab": {
          "base_uri": "https://localhost:8080/"
        },
        "id": "z4D25m2KVnU7",
        "outputId": "49254191-23ec-4d5a-acde-45f72a48b9bb"
      },
      "execution_count": 42,
      "outputs": [
        {
          "output_type": "stream",
          "name": "stdout",
          "text": [
            "\n",
            "row sums =  [1.93901584 3.04933306 1.81158835 2.15565552 2.86389173]\n",
            "\n",
            "Row index with max sum =  1\n",
            "\n",
            "Row with max sum =  [0.76487362 0.5418977  0.76106741 0.98149433]\n",
            "\n",
            "Normalized Array:\n",
            " [[0.         1.         0.18465934 0.52080859]\n",
            " [0.50722845 0.         0.49857002 1.        ]\n",
            " [0.24975908 1.         0.65443495 0.        ]\n",
            " [0.04902427 0.         1.         0.98678481]\n",
            " [0.46417845 0.         0.76723362 1.        ]]\n"
          ]
        }
      ]
    },
    {
      "cell_type": "markdown",
      "source": [
        "###5. arr = np.array([1, 3, 5, 3, 7, 9, 1, 5, 5])\n",
        "● Find all unique elements\n",
        "● Find the duplicates (elements that appear more than once)"
      ],
      "metadata": {
        "id": "oeTW3ChxYggK"
      }
    },
    {
      "cell_type": "code",
      "source": [
        "arr = np.array([1, 3, 5, 3, 7, 9, 1, 5, 5])\n",
        "uniqe_arr = np.unique(arr)\n",
        "print(\"unique elements : \",uniqe_arr)\n",
        "\n",
        "# Get unique values and their counts\n",
        "unique, counts = np.unique(arr, return_counts=True)\n",
        "\n",
        "# Find elements with count > 1 → duplicates\n",
        "duplicates = unique[counts > 1]\n",
        "print(\"Duplicate elements:\", duplicates)\n"
      ],
      "metadata": {
        "colab": {
          "base_uri": "https://localhost:8080/"
        },
        "id": "BFuExoQAYfv8",
        "outputId": "f4820981-d6f3-4c4b-d8db-baa9224abb24"
      },
      "execution_count": 45,
      "outputs": [
        {
          "output_type": "stream",
          "name": "stdout",
          "text": [
            "unique elements :  [1 3 5 7 9]\n",
            "Duplicate elements: [1 3 5]\n"
          ]
        }
      ]
    },
    {
      "cell_type": "markdown",
      "source": [
        "###6. Create a 6×6 NumPy array with values from 1 to 36.\n",
        "● Extract the middle 4×4 submatrix.\n",
        "● Then extract all even numbers from this submatrix.\n"
      ],
      "metadata": {
        "id": "l1QQQyUfZxdg"
      }
    },
    {
      "cell_type": "code",
      "source": [
        "C1 = np.arange(1,37).reshape(6,6)\n",
        "print(\"C1\\n\",C1)"
      ],
      "metadata": {
        "colab": {
          "base_uri": "https://localhost:8080/"
        },
        "id": "g6DI55R7Zw6q",
        "outputId": "1e17987c-2174-4309-fb18-15be0eb9c634"
      },
      "execution_count": 47,
      "outputs": [
        {
          "output_type": "stream",
          "name": "stdout",
          "text": [
            "C1\n",
            " [[ 1  2  3  4  5  6]\n",
            " [ 7  8  9 10 11 12]\n",
            " [13 14 15 16 17 18]\n",
            " [19 20 21 22 23 24]\n",
            " [25 26 27 28 29 30]\n",
            " [31 32 33 34 35 36]]\n"
          ]
        }
      ]
    },
    {
      "cell_type": "code",
      "source": [
        "C2 = C1[1:5,1:5]\n",
        "print(\"sub matrix = \\n\",C2)"
      ],
      "metadata": {
        "colab": {
          "base_uri": "https://localhost:8080/"
        },
        "id": "nYv4aZxPb63c",
        "outputId": "947b5fed-cf4c-4601-ec07-b38d92d4443a"
      },
      "execution_count": 55,
      "outputs": [
        {
          "output_type": "stream",
          "name": "stdout",
          "text": [
            "sub matrix = \n",
            " [[ 8  9 10 11]\n",
            " [14 15 16 17]\n",
            " [20 21 22 23]\n",
            " [26 27 28 29]]\n"
          ]
        }
      ]
    },
    {
      "cell_type": "code",
      "source": [
        "even_numbers = C2[C2 % 2 == 0]\n",
        "print(\"Even numbers from the submatrix:\", even_numbers)"
      ],
      "metadata": {
        "colab": {
          "base_uri": "https://localhost:8080/"
        },
        "id": "y5ofmDFJcRD6",
        "outputId": "388d7449-9d32-4195-f114-71a9a3f72322"
      },
      "execution_count": 56,
      "outputs": [
        {
          "output_type": "stream",
          "name": "stdout",
          "text": [
            "Even numbers from the submatrix: [ 8 10 14 16 20 22 26 28]\n"
          ]
        }
      ]
    },
    {
      "cell_type": "markdown",
      "source": [
        "###7. Generate an array of shape (3, 4) with values from 0 to 11.\n",
        "● Reshape it to (2, 6)\n",
        "● Then flatten it into a 1D array\n",
        "● Convert the 1D array back to shape (4, 3)\n"
      ],
      "metadata": {
        "id": "efPlnlPzdffe"
      }
    },
    {
      "cell_type": "code",
      "source": [
        "D1 = np.arange(0,12).reshape(3,4)\n",
        "print(\"D1\\n\",D1)"
      ],
      "metadata": {
        "colab": {
          "base_uri": "https://localhost:8080/"
        },
        "id": "w5BhJS-sdish",
        "outputId": "acbfd2a0-8418-4c8a-ed7c-24bedb99bac0"
      },
      "execution_count": 58,
      "outputs": [
        {
          "output_type": "stream",
          "name": "stdout",
          "text": [
            "D1\n",
            " [[ 0  1  2  3]\n",
            " [ 4  5  6  7]\n",
            " [ 8  9 10 11]]\n"
          ]
        }
      ]
    },
    {
      "cell_type": "code",
      "source": [
        "reshaped_2x6  = D1.reshape(2,6)\n",
        "print(\"reshaped_2x6\",\"\\n\",reshaped_2x6)\n",
        "\n",
        "flattened = D1.flatten()\n",
        "print(\"\\nFlattened (1D):\\n\", flattened)\n",
        "\n",
        "reshaped_4x3 = flattened.reshape(4, 3)\n",
        "print(\"\\nreshaped_4x3\\n\",reshaped_4x3)"
      ],
      "metadata": {
        "colab": {
          "base_uri": "https://localhost:8080/"
        },
        "id": "-7Ayysl0d2hC",
        "outputId": "2033d5c7-4ee7-400f-cc5d-b0359e43e7e7"
      },
      "execution_count": 65,
      "outputs": [
        {
          "output_type": "stream",
          "name": "stdout",
          "text": [
            "reshaped_2x6 \n",
            " [[ 0  1  2  3  4  5]\n",
            " [ 6  7  8  9 10 11]]\n",
            "\n",
            "Flattened (1D):\n",
            " [ 0  1  2  3  4  5  6  7  8  9 10 11]\n",
            "\n",
            "reshaped_4x3\n",
            " [[ 0  1  2]\n",
            " [ 3  4  5]\n",
            " [ 6  7  8]\n",
            " [ 9 10 11]]\n"
          ]
        }
      ]
    },
    {
      "cell_type": "code",
      "source": [],
      "metadata": {
        "id": "67fIsnE2eEHN"
      },
      "execution_count": null,
      "outputs": []
    },
    {
      "cell_type": "markdown",
      "source": [
        "###8 . Create an array: a = np.array([[1, 2], [3, 4]])\n",
        "● Append a new row [5, 6]\n",
        "● Then append a new column [7, 8, 9]\n"
      ],
      "metadata": {
        "id": "eaZBSan9e4BA"
      }
    },
    {
      "cell_type": "code",
      "source": [
        "a = np.array([[1, 2], [3, 4]])\n",
        "print(a)\n",
        "\n",
        "new_row = np.array([5,6])\n",
        "\n",
        "result = np.vstack([a, new_row])\n",
        "print(\"\\nnew matrix \\n\" ,result)"
      ],
      "metadata": {
        "colab": {
          "base_uri": "https://localhost:8080/"
        },
        "id": "bINQrCm7e7wA",
        "outputId": "84ea04a5-f7ce-4afe-fb72-0bcc431ba3ff"
      },
      "execution_count": 71,
      "outputs": [
        {
          "output_type": "stream",
          "name": "stdout",
          "text": [
            "[[1 2]\n",
            " [3 4]]\n",
            "\n",
            "new matrix \n",
            " [[1 2]\n",
            " [3 4]\n",
            " [5 6]]\n"
          ]
        }
      ]
    },
    {
      "cell_type": "markdown",
      "source": [
        "###9.\n",
        "a = np.array([1, 2, 3])\n",
        "b = np.array([4, 5, 6])\n",
        "c = np.array([7, 8, 9])\n",
        "● Join them into a single array\n",
        "● Reshape the result into a 3×3 matrix\n",
        "● Extract the diagonal elements\n"
      ],
      "metadata": {
        "id": "ueXEYWP0jwsV"
      }
    },
    {
      "cell_type": "code",
      "source": [
        "a = np.array([1, 2, 3])\n",
        "b = np.array([4, 5, 6])\n",
        "c = np.array([7, 8, 9])\n",
        "\n",
        "joined = np.concatenate([a, b, c])\n",
        "print(\"Joined array:\", joined)\n",
        "\n",
        "reshaped = joined.reshape(3,3)\n",
        "print(\"\\nReshaped matrix:\\n\", reshaped)\n",
        "\n",
        "diagonal = np.diag(reshaped)\n",
        "print(\"\\nDiagonal elements:\", diagonal)"
      ],
      "metadata": {
        "colab": {
          "base_uri": "https://localhost:8080/"
        },
        "id": "6PCgMEA7j0dw",
        "outputId": "3704d612-7bb2-4d28-871d-3217cf153c17"
      },
      "execution_count": 73,
      "outputs": [
        {
          "output_type": "stream",
          "name": "stdout",
          "text": [
            "Joined array: [1 2 3 4 5 6 7 8 9]\n",
            "\n",
            "Reshaped matrix:\n",
            " [[1 2 3]\n",
            " [4 5 6]\n",
            " [7 8 9]]\n",
            "\n",
            "Diagonal elements: [1 5 9]\n"
          ]
        }
      ]
    },
    {
      "cell_type": "markdown",
      "source": [
        "###10. Create a NumPy array of integers from 1 to 20.\n",
        "● Extract all values that are divisible by 3 or 5.\n",
        "● Count how many such values exist."
      ],
      "metadata": {
        "id": "ssxvsRwjD_-I"
      }
    },
    {
      "cell_type": "code",
      "source": [
        "E1 = np.arange(1,21)\n",
        "print(E1)\n",
        "\n",
        "divisible_by_3_or_5 = E1[(E1 % 3 == 0) | (E1 % 5 == 0)]\n",
        "print(\"\\nValues divisible by 3 or 5:\", divisible_by_3_or_5)\n",
        "\n",
        "count = len(divisible_by_3_or_5)\n",
        "print(\"\\nCount of values divisible by 3 or 5:\", count)"
      ],
      "metadata": {
        "colab": {
          "base_uri": "https://localhost:8080/"
        },
        "id": "-2cLjaWpECq7",
        "outputId": "d94710ed-3b03-4b1a-92fc-aba974b8828b"
      },
      "execution_count": 6,
      "outputs": [
        {
          "output_type": "stream",
          "name": "stdout",
          "text": [
            "[ 1  2  3  4  5  6  7  8  9 10 11 12 13 14 15 16 17 18 19 20]\n",
            "\n",
            "Values divisible by 3 or 5: [ 3  5  6  9 10 12 15 18 20]\n",
            "\n",
            "Count of values divisible by 3 or 5: 9\n"
          ]
        }
      ]
    },
    {
      "cell_type": "code",
      "source": [],
      "metadata": {
        "id": "r0vheN5PEVxe"
      },
      "execution_count": null,
      "outputs": []
    }
  ]
}