{
  "nbformat": 4,
  "nbformat_minor": 0,
  "metadata": {
    "colab": {
      "provenance": [],
      "authorship_tag": "ABX9TyOkHHyOKa6G8EI5quG3IxnX",
      "include_colab_link": true
    },
    "kernelspec": {
      "name": "python3",
      "display_name": "Python 3"
    },
    "language_info": {
      "name": "python"
    }
  },
  "cells": [
    {
      "cell_type": "markdown",
      "metadata": {
        "id": "view-in-github",
        "colab_type": "text"
      },
      "source": [
        "<a href=\"https://colab.research.google.com/github/meeraraju27/Case_Study/blob/main/Pandas_case_study2_Meera_Raju.ipynb\" target=\"_parent\"><img src=\"https://colab.research.google.com/assets/colab-badge.svg\" alt=\"Open In Colab\"/></a>"
      ]
    },
    {
      "cell_type": "code",
      "source": [
        "#1) Import pandas, numpy\n",
        "\n",
        "import pandas as pd\n",
        "import numpy as np\n"
      ],
      "metadata": {
        "id": "gDXKnBnPgg4p"
      },
      "execution_count": 7,
      "outputs": []
    },
    {
      "cell_type": "code",
      "source": [
        "#2) Load dataset using pd.read_csv()\n",
        "url =\"https://raw.githubusercontent.com/laxmimerit/All-CSV-ML-Data-Files-Download/master/IMDB-Movie-Data.csv\"\n",
        "df = pd.read_csv(url)"
      ],
      "metadata": {
        "id": "ljwJ42Rchbe_"
      },
      "execution_count": 6,
      "outputs": []
    },
    {
      "cell_type": "code",
      "source": [
        "#3) Display: shape, head, column names, datatypes, missing value\n",
        "df.shape"
      ],
      "metadata": {
        "colab": {
          "base_uri": "https://localhost:8080/"
        },
        "id": "louSdU2wh1Np",
        "outputId": "f2e25a89-70fe-45d3-b621-e5ef667ef867"
      },
      "execution_count": 8,
      "outputs": [
        {
          "output_type": "execute_result",
          "data": {
            "text/plain": [
              "(1000, 12)"
            ]
          },
          "metadata": {},
          "execution_count": 8
        }
      ]
    },
    {
      "cell_type": "code",
      "source": [
        "df.head()"
      ],
      "metadata": {
        "colab": {
          "base_uri": "https://localhost:8080/",
          "height": 414
        },
        "collapsed": true,
        "id": "LYsDMpaAh-J-",
        "outputId": "3836daa5-6902-4c1f-a753-c77698b7b596"
      },
      "execution_count": 9,
      "outputs": [
        {
          "output_type": "execute_result",
          "data": {
            "text/plain": [
              "   Rank                    Title                     Genre  \\\n",
              "0     1  Guardians of the Galaxy   Action,Adventure,Sci-Fi   \n",
              "1     2               Prometheus  Adventure,Mystery,Sci-Fi   \n",
              "2     3                    Split           Horror,Thriller   \n",
              "3     4                     Sing   Animation,Comedy,Family   \n",
              "4     5            Suicide Squad  Action,Adventure,Fantasy   \n",
              "\n",
              "                                         Description              Director  \\\n",
              "0  A group of intergalactic criminals are forced ...            James Gunn   \n",
              "1  Following clues to the origin of mankind, a te...          Ridley Scott   \n",
              "2  Three girls are kidnapped by a man with a diag...    M. Night Shyamalan   \n",
              "3  In a city of humanoid animals, a hustling thea...  Christophe Lourdelet   \n",
              "4  A secret government agency recruits some of th...            David Ayer   \n",
              "\n",
              "                                              Actors  Year  Runtime (Minutes)  \\\n",
              "0  Chris Pratt, Vin Diesel, Bradley Cooper, Zoe S...  2014                121   \n",
              "1  Noomi Rapace, Logan Marshall-Green, Michael Fa...  2012                124   \n",
              "2  James McAvoy, Anya Taylor-Joy, Haley Lu Richar...  2016                117   \n",
              "3  Matthew McConaughey,Reese Witherspoon, Seth Ma...  2016                108   \n",
              "4  Will Smith, Jared Leto, Margot Robbie, Viola D...  2016                123   \n",
              "\n",
              "   Rating   Votes  Revenue (Millions)  Metascore  \n",
              "0     8.1  757074              333.13       76.0  \n",
              "1     7.0  485820              126.46       65.0  \n",
              "2     7.3  157606              138.12       62.0  \n",
              "3     7.2   60545              270.32       59.0  \n",
              "4     6.2  393727              325.02       40.0  "
            ],
            "text/html": [
              "\n",
              "  <div id=\"df-28f9f91f-220f-4cc3-a5f5-b57cd13e36a1\" class=\"colab-df-container\">\n",
              "    <div>\n",
              "<style scoped>\n",
              "    .dataframe tbody tr th:only-of-type {\n",
              "        vertical-align: middle;\n",
              "    }\n",
              "\n",
              "    .dataframe tbody tr th {\n",
              "        vertical-align: top;\n",
              "    }\n",
              "\n",
              "    .dataframe thead th {\n",
              "        text-align: right;\n",
              "    }\n",
              "</style>\n",
              "<table border=\"1\" class=\"dataframe\">\n",
              "  <thead>\n",
              "    <tr style=\"text-align: right;\">\n",
              "      <th></th>\n",
              "      <th>Rank</th>\n",
              "      <th>Title</th>\n",
              "      <th>Genre</th>\n",
              "      <th>Description</th>\n",
              "      <th>Director</th>\n",
              "      <th>Actors</th>\n",
              "      <th>Year</th>\n",
              "      <th>Runtime (Minutes)</th>\n",
              "      <th>Rating</th>\n",
              "      <th>Votes</th>\n",
              "      <th>Revenue (Millions)</th>\n",
              "      <th>Metascore</th>\n",
              "    </tr>\n",
              "  </thead>\n",
              "  <tbody>\n",
              "    <tr>\n",
              "      <th>0</th>\n",
              "      <td>1</td>\n",
              "      <td>Guardians of the Galaxy</td>\n",
              "      <td>Action,Adventure,Sci-Fi</td>\n",
              "      <td>A group of intergalactic criminals are forced ...</td>\n",
              "      <td>James Gunn</td>\n",
              "      <td>Chris Pratt, Vin Diesel, Bradley Cooper, Zoe S...</td>\n",
              "      <td>2014</td>\n",
              "      <td>121</td>\n",
              "      <td>8.1</td>\n",
              "      <td>757074</td>\n",
              "      <td>333.13</td>\n",
              "      <td>76.0</td>\n",
              "    </tr>\n",
              "    <tr>\n",
              "      <th>1</th>\n",
              "      <td>2</td>\n",
              "      <td>Prometheus</td>\n",
              "      <td>Adventure,Mystery,Sci-Fi</td>\n",
              "      <td>Following clues to the origin of mankind, a te...</td>\n",
              "      <td>Ridley Scott</td>\n",
              "      <td>Noomi Rapace, Logan Marshall-Green, Michael Fa...</td>\n",
              "      <td>2012</td>\n",
              "      <td>124</td>\n",
              "      <td>7.0</td>\n",
              "      <td>485820</td>\n",
              "      <td>126.46</td>\n",
              "      <td>65.0</td>\n",
              "    </tr>\n",
              "    <tr>\n",
              "      <th>2</th>\n",
              "      <td>3</td>\n",
              "      <td>Split</td>\n",
              "      <td>Horror,Thriller</td>\n",
              "      <td>Three girls are kidnapped by a man with a diag...</td>\n",
              "      <td>M. Night Shyamalan</td>\n",
              "      <td>James McAvoy, Anya Taylor-Joy, Haley Lu Richar...</td>\n",
              "      <td>2016</td>\n",
              "      <td>117</td>\n",
              "      <td>7.3</td>\n",
              "      <td>157606</td>\n",
              "      <td>138.12</td>\n",
              "      <td>62.0</td>\n",
              "    </tr>\n",
              "    <tr>\n",
              "      <th>3</th>\n",
              "      <td>4</td>\n",
              "      <td>Sing</td>\n",
              "      <td>Animation,Comedy,Family</td>\n",
              "      <td>In a city of humanoid animals, a hustling thea...</td>\n",
              "      <td>Christophe Lourdelet</td>\n",
              "      <td>Matthew McConaughey,Reese Witherspoon, Seth Ma...</td>\n",
              "      <td>2016</td>\n",
              "      <td>108</td>\n",
              "      <td>7.2</td>\n",
              "      <td>60545</td>\n",
              "      <td>270.32</td>\n",
              "      <td>59.0</td>\n",
              "    </tr>\n",
              "    <tr>\n",
              "      <th>4</th>\n",
              "      <td>5</td>\n",
              "      <td>Suicide Squad</td>\n",
              "      <td>Action,Adventure,Fantasy</td>\n",
              "      <td>A secret government agency recruits some of th...</td>\n",
              "      <td>David Ayer</td>\n",
              "      <td>Will Smith, Jared Leto, Margot Robbie, Viola D...</td>\n",
              "      <td>2016</td>\n",
              "      <td>123</td>\n",
              "      <td>6.2</td>\n",
              "      <td>393727</td>\n",
              "      <td>325.02</td>\n",
              "      <td>40.0</td>\n",
              "    </tr>\n",
              "  </tbody>\n",
              "</table>\n",
              "</div>\n",
              "    <div class=\"colab-df-buttons\">\n",
              "\n",
              "  <div class=\"colab-df-container\">\n",
              "    <button class=\"colab-df-convert\" onclick=\"convertToInteractive('df-28f9f91f-220f-4cc3-a5f5-b57cd13e36a1')\"\n",
              "            title=\"Convert this dataframe to an interactive table.\"\n",
              "            style=\"display:none;\">\n",
              "\n",
              "  <svg xmlns=\"http://www.w3.org/2000/svg\" height=\"24px\" viewBox=\"0 -960 960 960\">\n",
              "    <path d=\"M120-120v-720h720v720H120Zm60-500h600v-160H180v160Zm220 220h160v-160H400v160Zm0 220h160v-160H400v160ZM180-400h160v-160H180v160Zm440 0h160v-160H620v160ZM180-180h160v-160H180v160Zm440 0h160v-160H620v160Z\"/>\n",
              "  </svg>\n",
              "    </button>\n",
              "\n",
              "  <style>\n",
              "    .colab-df-container {\n",
              "      display:flex;\n",
              "      gap: 12px;\n",
              "    }\n",
              "\n",
              "    .colab-df-convert {\n",
              "      background-color: #E8F0FE;\n",
              "      border: none;\n",
              "      border-radius: 50%;\n",
              "      cursor: pointer;\n",
              "      display: none;\n",
              "      fill: #1967D2;\n",
              "      height: 32px;\n",
              "      padding: 0 0 0 0;\n",
              "      width: 32px;\n",
              "    }\n",
              "\n",
              "    .colab-df-convert:hover {\n",
              "      background-color: #E2EBFA;\n",
              "      box-shadow: 0px 1px 2px rgba(60, 64, 67, 0.3), 0px 1px 3px 1px rgba(60, 64, 67, 0.15);\n",
              "      fill: #174EA6;\n",
              "    }\n",
              "\n",
              "    .colab-df-buttons div {\n",
              "      margin-bottom: 4px;\n",
              "    }\n",
              "\n",
              "    [theme=dark] .colab-df-convert {\n",
              "      background-color: #3B4455;\n",
              "      fill: #D2E3FC;\n",
              "    }\n",
              "\n",
              "    [theme=dark] .colab-df-convert:hover {\n",
              "      background-color: #434B5C;\n",
              "      box-shadow: 0px 1px 3px 1px rgba(0, 0, 0, 0.15);\n",
              "      filter: drop-shadow(0px 1px 2px rgba(0, 0, 0, 0.3));\n",
              "      fill: #FFFFFF;\n",
              "    }\n",
              "  </style>\n",
              "\n",
              "    <script>\n",
              "      const buttonEl =\n",
              "        document.querySelector('#df-28f9f91f-220f-4cc3-a5f5-b57cd13e36a1 button.colab-df-convert');\n",
              "      buttonEl.style.display =\n",
              "        google.colab.kernel.accessAllowed ? 'block' : 'none';\n",
              "\n",
              "      async function convertToInteractive(key) {\n",
              "        const element = document.querySelector('#df-28f9f91f-220f-4cc3-a5f5-b57cd13e36a1');\n",
              "        const dataTable =\n",
              "          await google.colab.kernel.invokeFunction('convertToInteractive',\n",
              "                                                    [key], {});\n",
              "        if (!dataTable) return;\n",
              "\n",
              "        const docLinkHtml = 'Like what you see? Visit the ' +\n",
              "          '<a target=\"_blank\" href=https://colab.research.google.com/notebooks/data_table.ipynb>data table notebook</a>'\n",
              "          + ' to learn more about interactive tables.';\n",
              "        element.innerHTML = '';\n",
              "        dataTable['output_type'] = 'display_data';\n",
              "        await google.colab.output.renderOutput(dataTable, element);\n",
              "        const docLink = document.createElement('div');\n",
              "        docLink.innerHTML = docLinkHtml;\n",
              "        element.appendChild(docLink);\n",
              "      }\n",
              "    </script>\n",
              "  </div>\n",
              "\n",
              "\n",
              "    <div id=\"df-57737b06-ce67-4138-912b-62d695eb4a51\">\n",
              "      <button class=\"colab-df-quickchart\" onclick=\"quickchart('df-57737b06-ce67-4138-912b-62d695eb4a51')\"\n",
              "                title=\"Suggest charts\"\n",
              "                style=\"display:none;\">\n",
              "\n",
              "<svg xmlns=\"http://www.w3.org/2000/svg\" height=\"24px\"viewBox=\"0 0 24 24\"\n",
              "     width=\"24px\">\n",
              "    <g>\n",
              "        <path d=\"M19 3H5c-1.1 0-2 .9-2 2v14c0 1.1.9 2 2 2h14c1.1 0 2-.9 2-2V5c0-1.1-.9-2-2-2zM9 17H7v-7h2v7zm4 0h-2V7h2v10zm4 0h-2v-4h2v4z\"/>\n",
              "    </g>\n",
              "</svg>\n",
              "      </button>\n",
              "\n",
              "<style>\n",
              "  .colab-df-quickchart {\n",
              "      --bg-color: #E8F0FE;\n",
              "      --fill-color: #1967D2;\n",
              "      --hover-bg-color: #E2EBFA;\n",
              "      --hover-fill-color: #174EA6;\n",
              "      --disabled-fill-color: #AAA;\n",
              "      --disabled-bg-color: #DDD;\n",
              "  }\n",
              "\n",
              "  [theme=dark] .colab-df-quickchart {\n",
              "      --bg-color: #3B4455;\n",
              "      --fill-color: #D2E3FC;\n",
              "      --hover-bg-color: #434B5C;\n",
              "      --hover-fill-color: #FFFFFF;\n",
              "      --disabled-bg-color: #3B4455;\n",
              "      --disabled-fill-color: #666;\n",
              "  }\n",
              "\n",
              "  .colab-df-quickchart {\n",
              "    background-color: var(--bg-color);\n",
              "    border: none;\n",
              "    border-radius: 50%;\n",
              "    cursor: pointer;\n",
              "    display: none;\n",
              "    fill: var(--fill-color);\n",
              "    height: 32px;\n",
              "    padding: 0;\n",
              "    width: 32px;\n",
              "  }\n",
              "\n",
              "  .colab-df-quickchart:hover {\n",
              "    background-color: var(--hover-bg-color);\n",
              "    box-shadow: 0 1px 2px rgba(60, 64, 67, 0.3), 0 1px 3px 1px rgba(60, 64, 67, 0.15);\n",
              "    fill: var(--button-hover-fill-color);\n",
              "  }\n",
              "\n",
              "  .colab-df-quickchart-complete:disabled,\n",
              "  .colab-df-quickchart-complete:disabled:hover {\n",
              "    background-color: var(--disabled-bg-color);\n",
              "    fill: var(--disabled-fill-color);\n",
              "    box-shadow: none;\n",
              "  }\n",
              "\n",
              "  .colab-df-spinner {\n",
              "    border: 2px solid var(--fill-color);\n",
              "    border-color: transparent;\n",
              "    border-bottom-color: var(--fill-color);\n",
              "    animation:\n",
              "      spin 1s steps(1) infinite;\n",
              "  }\n",
              "\n",
              "  @keyframes spin {\n",
              "    0% {\n",
              "      border-color: transparent;\n",
              "      border-bottom-color: var(--fill-color);\n",
              "      border-left-color: var(--fill-color);\n",
              "    }\n",
              "    20% {\n",
              "      border-color: transparent;\n",
              "      border-left-color: var(--fill-color);\n",
              "      border-top-color: var(--fill-color);\n",
              "    }\n",
              "    30% {\n",
              "      border-color: transparent;\n",
              "      border-left-color: var(--fill-color);\n",
              "      border-top-color: var(--fill-color);\n",
              "      border-right-color: var(--fill-color);\n",
              "    }\n",
              "    40% {\n",
              "      border-color: transparent;\n",
              "      border-right-color: var(--fill-color);\n",
              "      border-top-color: var(--fill-color);\n",
              "    }\n",
              "    60% {\n",
              "      border-color: transparent;\n",
              "      border-right-color: var(--fill-color);\n",
              "    }\n",
              "    80% {\n",
              "      border-color: transparent;\n",
              "      border-right-color: var(--fill-color);\n",
              "      border-bottom-color: var(--fill-color);\n",
              "    }\n",
              "    90% {\n",
              "      border-color: transparent;\n",
              "      border-bottom-color: var(--fill-color);\n",
              "    }\n",
              "  }\n",
              "</style>\n",
              "\n",
              "      <script>\n",
              "        async function quickchart(key) {\n",
              "          const quickchartButtonEl =\n",
              "            document.querySelector('#' + key + ' button');\n",
              "          quickchartButtonEl.disabled = true;  // To prevent multiple clicks.\n",
              "          quickchartButtonEl.classList.add('colab-df-spinner');\n",
              "          try {\n",
              "            const charts = await google.colab.kernel.invokeFunction(\n",
              "                'suggestCharts', [key], {});\n",
              "          } catch (error) {\n",
              "            console.error('Error during call to suggestCharts:', error);\n",
              "          }\n",
              "          quickchartButtonEl.classList.remove('colab-df-spinner');\n",
              "          quickchartButtonEl.classList.add('colab-df-quickchart-complete');\n",
              "        }\n",
              "        (() => {\n",
              "          let quickchartButtonEl =\n",
              "            document.querySelector('#df-57737b06-ce67-4138-912b-62d695eb4a51 button');\n",
              "          quickchartButtonEl.style.display =\n",
              "            google.colab.kernel.accessAllowed ? 'block' : 'none';\n",
              "        })();\n",
              "      </script>\n",
              "    </div>\n",
              "\n",
              "    </div>\n",
              "  </div>\n"
            ],
            "application/vnd.google.colaboratory.intrinsic+json": {
              "type": "dataframe",
              "variable_name": "df",
              "summary": "{\n  \"name\": \"df\",\n  \"rows\": 1000,\n  \"fields\": [\n    {\n      \"column\": \"Rank\",\n      \"properties\": {\n        \"dtype\": \"number\",\n        \"std\": 288,\n        \"min\": 1,\n        \"max\": 1000,\n        \"num_unique_values\": 1000,\n        \"samples\": [\n          522,\n          738,\n          741\n        ],\n        \"semantic_type\": \"\",\n        \"description\": \"\"\n      }\n    },\n    {\n      \"column\": \"Title\",\n      \"properties\": {\n        \"dtype\": \"string\",\n        \"num_unique_values\": 999,\n        \"samples\": [\n          \"Olympus Has Fallen\",\n          \"Man on a Ledge\",\n          \"The Girl with All the Gifts\"\n        ],\n        \"semantic_type\": \"\",\n        \"description\": \"\"\n      }\n    },\n    {\n      \"column\": \"Genre\",\n      \"properties\": {\n        \"dtype\": \"category\",\n        \"num_unique_values\": 207,\n        \"samples\": [\n          \"Mystery,Romance,Sci-Fi\",\n          \"Drama,Mystery,Sci-Fi\",\n          \"Drama,Mystery,Romance\"\n        ],\n        \"semantic_type\": \"\",\n        \"description\": \"\"\n      }\n    },\n    {\n      \"column\": \"Description\",\n      \"properties\": {\n        \"dtype\": \"string\",\n        \"num_unique_values\": 1000,\n        \"samples\": [\n          \"A lawyer finds himself in over his head when he gets involved in drug trafficking.\",\n          \"A CIA agent on the ground in Jordan hunts down a powerful terrorist leader while being caught between the unclear intentions of his American supervisors and Jordan Intelligence.\",\n          \"A titan of industry is sent to prison after she's caught insider trading. When she emerges ready to rebrand herself as America's latest sweetheart, not everyone she screwed over is so quick to forgive and forget.\"\n        ],\n        \"semantic_type\": \"\",\n        \"description\": \"\"\n      }\n    },\n    {\n      \"column\": \"Director\",\n      \"properties\": {\n        \"dtype\": \"string\",\n        \"num_unique_values\": 644,\n        \"samples\": [\n          \"Patricia Riggen\",\n          \"Gregory Wilson\",\n          \"Chris McCoy\"\n        ],\n        \"semantic_type\": \"\",\n        \"description\": \"\"\n      }\n    },\n    {\n      \"column\": \"Actors\",\n      \"properties\": {\n        \"dtype\": \"string\",\n        \"num_unique_values\": 996,\n        \"samples\": [\n          \"Adrian Titieni, Maria-Victoria Dragus, Lia Bugnar,Malina Manovici\",\n          \"Madina Nalwanga, David Oyelowo, Lupita Nyong'o, Martin Kabanza\",\n          \"Ry\\u00fbnosuke Kamiki, Mone Kamishiraishi, Ry\\u00f4 Narita, Aoi Yuki\"\n        ],\n        \"semantic_type\": \"\",\n        \"description\": \"\"\n      }\n    },\n    {\n      \"column\": \"Year\",\n      \"properties\": {\n        \"dtype\": \"number\",\n        \"std\": 3,\n        \"min\": 2006,\n        \"max\": 2016,\n        \"num_unique_values\": 11,\n        \"samples\": [\n          2011,\n          2014,\n          2010\n        ],\n        \"semantic_type\": \"\",\n        \"description\": \"\"\n      }\n    },\n    {\n      \"column\": \"Runtime (Minutes)\",\n      \"properties\": {\n        \"dtype\": \"number\",\n        \"std\": 18,\n        \"min\": 66,\n        \"max\": 191,\n        \"num_unique_values\": 94,\n        \"samples\": [\n          106,\n          99,\n          146\n        ],\n        \"semantic_type\": \"\",\n        \"description\": \"\"\n      }\n    },\n    {\n      \"column\": \"Rating\",\n      \"properties\": {\n        \"dtype\": \"number\",\n        \"std\": 0.9454287892779637,\n        \"min\": 1.9,\n        \"max\": 9.0,\n        \"num_unique_values\": 55,\n        \"samples\": [\n          7.4,\n          6.1,\n          4.1\n        ],\n        \"semantic_type\": \"\",\n        \"description\": \"\"\n      }\n    },\n    {\n      \"column\": \"Votes\",\n      \"properties\": {\n        \"dtype\": \"number\",\n        \"std\": 188762,\n        \"min\": 61,\n        \"max\": 1791916,\n        \"num_unique_values\": 997,\n        \"samples\": [\n          214994,\n          4370,\n          23713\n        ],\n        \"semantic_type\": \"\",\n        \"description\": \"\"\n      }\n    },\n    {\n      \"column\": \"Revenue (Millions)\",\n      \"properties\": {\n        \"dtype\": \"number\",\n        \"std\": 103.25354047492473,\n        \"min\": 0.0,\n        \"max\": 936.63,\n        \"num_unique_values\": 814,\n        \"samples\": [\n          89.02,\n          23.23,\n          202.85\n        ],\n        \"semantic_type\": \"\",\n        \"description\": \"\"\n      }\n    },\n    {\n      \"column\": \"Metascore\",\n      \"properties\": {\n        \"dtype\": \"number\",\n        \"std\": 17.194757023263836,\n        \"min\": 11.0,\n        \"max\": 100.0,\n        \"num_unique_values\": 84,\n        \"samples\": [\n          27.0,\n          76.0,\n          47.0\n        ],\n        \"semantic_type\": \"\",\n        \"description\": \"\"\n      }\n    }\n  ]\n}"
            }
          },
          "metadata": {},
          "execution_count": 9
        }
      ]
    },
    {
      "cell_type": "code",
      "source": [
        "df.columns"
      ],
      "metadata": {
        "colab": {
          "base_uri": "https://localhost:8080/"
        },
        "id": "bXqJgIVaiDSr",
        "outputId": "5ab458c7-37bd-4906-8580-c1197d42549b"
      },
      "execution_count": 10,
      "outputs": [
        {
          "output_type": "execute_result",
          "data": {
            "text/plain": [
              "Index(['Rank', 'Title', 'Genre', 'Description', 'Director', 'Actors', 'Year',\n",
              "       'Runtime (Minutes)', 'Rating', 'Votes', 'Revenue (Millions)',\n",
              "       'Metascore'],\n",
              "      dtype='object')"
            ]
          },
          "metadata": {},
          "execution_count": 10
        }
      ]
    },
    {
      "cell_type": "code",
      "source": [
        "df.dtypes"
      ],
      "metadata": {
        "colab": {
          "base_uri": "https://localhost:8080/",
          "height": 460
        },
        "collapsed": true,
        "id": "gmvSt1UYiIQl",
        "outputId": "a53bd2d7-3ce6-4cbc-df96-237685a9a659"
      },
      "execution_count": 12,
      "outputs": [
        {
          "output_type": "execute_result",
          "data": {
            "text/plain": [
              "Rank                    int64\n",
              "Title                  object\n",
              "Genre                  object\n",
              "Description            object\n",
              "Director               object\n",
              "Actors                 object\n",
              "Year                    int64\n",
              "Runtime (Minutes)       int64\n",
              "Rating                float64\n",
              "Votes                   int64\n",
              "Revenue (Millions)    float64\n",
              "Metascore             float64\n",
              "dtype: object"
            ],
            "text/html": [
              "<div>\n",
              "<style scoped>\n",
              "    .dataframe tbody tr th:only-of-type {\n",
              "        vertical-align: middle;\n",
              "    }\n",
              "\n",
              "    .dataframe tbody tr th {\n",
              "        vertical-align: top;\n",
              "    }\n",
              "\n",
              "    .dataframe thead th {\n",
              "        text-align: right;\n",
              "    }\n",
              "</style>\n",
              "<table border=\"1\" class=\"dataframe\">\n",
              "  <thead>\n",
              "    <tr style=\"text-align: right;\">\n",
              "      <th></th>\n",
              "      <th>0</th>\n",
              "    </tr>\n",
              "  </thead>\n",
              "  <tbody>\n",
              "    <tr>\n",
              "      <th>Rank</th>\n",
              "      <td>int64</td>\n",
              "    </tr>\n",
              "    <tr>\n",
              "      <th>Title</th>\n",
              "      <td>object</td>\n",
              "    </tr>\n",
              "    <tr>\n",
              "      <th>Genre</th>\n",
              "      <td>object</td>\n",
              "    </tr>\n",
              "    <tr>\n",
              "      <th>Description</th>\n",
              "      <td>object</td>\n",
              "    </tr>\n",
              "    <tr>\n",
              "      <th>Director</th>\n",
              "      <td>object</td>\n",
              "    </tr>\n",
              "    <tr>\n",
              "      <th>Actors</th>\n",
              "      <td>object</td>\n",
              "    </tr>\n",
              "    <tr>\n",
              "      <th>Year</th>\n",
              "      <td>int64</td>\n",
              "    </tr>\n",
              "    <tr>\n",
              "      <th>Runtime (Minutes)</th>\n",
              "      <td>int64</td>\n",
              "    </tr>\n",
              "    <tr>\n",
              "      <th>Rating</th>\n",
              "      <td>float64</td>\n",
              "    </tr>\n",
              "    <tr>\n",
              "      <th>Votes</th>\n",
              "      <td>int64</td>\n",
              "    </tr>\n",
              "    <tr>\n",
              "      <th>Revenue (Millions)</th>\n",
              "      <td>float64</td>\n",
              "    </tr>\n",
              "    <tr>\n",
              "      <th>Metascore</th>\n",
              "      <td>float64</td>\n",
              "    </tr>\n",
              "  </tbody>\n",
              "</table>\n",
              "</div><br><label><b>dtype:</b> object</label>"
            ]
          },
          "metadata": {},
          "execution_count": 12
        }
      ]
    },
    {
      "cell_type": "code",
      "source": [
        "df.isna().sum()"
      ],
      "metadata": {
        "colab": {
          "base_uri": "https://localhost:8080/",
          "height": 460
        },
        "id": "qEbrumBCia09",
        "outputId": "0d27b150-c3cf-4351-cf0a-4fc3ca45b5f9"
      },
      "execution_count": 15,
      "outputs": [
        {
          "output_type": "execute_result",
          "data": {
            "text/plain": [
              "Rank                    0\n",
              "Title                   0\n",
              "Genre                   0\n",
              "Description             0\n",
              "Director                0\n",
              "Actors                  0\n",
              "Year                    0\n",
              "Runtime (Minutes)       0\n",
              "Rating                  0\n",
              "Votes                   0\n",
              "Revenue (Millions)    128\n",
              "Metascore              64\n",
              "dtype: int64"
            ],
            "text/html": [
              "<div>\n",
              "<style scoped>\n",
              "    .dataframe tbody tr th:only-of-type {\n",
              "        vertical-align: middle;\n",
              "    }\n",
              "\n",
              "    .dataframe tbody tr th {\n",
              "        vertical-align: top;\n",
              "    }\n",
              "\n",
              "    .dataframe thead th {\n",
              "        text-align: right;\n",
              "    }\n",
              "</style>\n",
              "<table border=\"1\" class=\"dataframe\">\n",
              "  <thead>\n",
              "    <tr style=\"text-align: right;\">\n",
              "      <th></th>\n",
              "      <th>0</th>\n",
              "    </tr>\n",
              "  </thead>\n",
              "  <tbody>\n",
              "    <tr>\n",
              "      <th>Rank</th>\n",
              "      <td>0</td>\n",
              "    </tr>\n",
              "    <tr>\n",
              "      <th>Title</th>\n",
              "      <td>0</td>\n",
              "    </tr>\n",
              "    <tr>\n",
              "      <th>Genre</th>\n",
              "      <td>0</td>\n",
              "    </tr>\n",
              "    <tr>\n",
              "      <th>Description</th>\n",
              "      <td>0</td>\n",
              "    </tr>\n",
              "    <tr>\n",
              "      <th>Director</th>\n",
              "      <td>0</td>\n",
              "    </tr>\n",
              "    <tr>\n",
              "      <th>Actors</th>\n",
              "      <td>0</td>\n",
              "    </tr>\n",
              "    <tr>\n",
              "      <th>Year</th>\n",
              "      <td>0</td>\n",
              "    </tr>\n",
              "    <tr>\n",
              "      <th>Runtime (Minutes)</th>\n",
              "      <td>0</td>\n",
              "    </tr>\n",
              "    <tr>\n",
              "      <th>Rating</th>\n",
              "      <td>0</td>\n",
              "    </tr>\n",
              "    <tr>\n",
              "      <th>Votes</th>\n",
              "      <td>0</td>\n",
              "    </tr>\n",
              "    <tr>\n",
              "      <th>Revenue (Millions)</th>\n",
              "      <td>128</td>\n",
              "    </tr>\n",
              "    <tr>\n",
              "      <th>Metascore</th>\n",
              "      <td>64</td>\n",
              "    </tr>\n",
              "  </tbody>\n",
              "</table>\n",
              "</div><br><label><b>dtype:</b> int64</label>"
            ]
          },
          "metadata": {},
          "execution_count": 15
        }
      ]
    },
    {
      "cell_type": "code",
      "source": [
        "#4) Check and remove duplicates\n",
        "\n",
        "# Count total duplicate rows\n",
        "duplicate_count = df.duplicated().sum()\n",
        "print(\"Number of duplicate rows:\", duplicate_count)\n",
        "\n",
        "# Preview actual duplicate rows\n",
        "df[df.duplicated()].head()\n"
      ],
      "metadata": {
        "colab": {
          "base_uri": "https://localhost:8080/",
          "height": 70
        },
        "id": "vR_7P8m7ioxu",
        "outputId": "b3bbc1e2-e3ac-40d9-bc24-7a12e9ee7dea"
      },
      "execution_count": 26,
      "outputs": [
        {
          "output_type": "stream",
          "name": "stdout",
          "text": [
            "Number of duplicate rows: 0\n"
          ]
        },
        {
          "output_type": "execute_result",
          "data": {
            "text/plain": [
              "Empty DataFrame\n",
              "Columns: [Rank, Title, Genre, Description, Director, Actors, Year, Runtime (Minutes), Rating, Votes, Revenue (Millions), Metascore]\n",
              "Index: []"
            ],
            "text/html": [
              "\n",
              "  <div id=\"df-215ef7b6-9f62-4746-a58b-6caefb9ae4ac\" class=\"colab-df-container\">\n",
              "    <div>\n",
              "<style scoped>\n",
              "    .dataframe tbody tr th:only-of-type {\n",
              "        vertical-align: middle;\n",
              "    }\n",
              "\n",
              "    .dataframe tbody tr th {\n",
              "        vertical-align: top;\n",
              "    }\n",
              "\n",
              "    .dataframe thead th {\n",
              "        text-align: right;\n",
              "    }\n",
              "</style>\n",
              "<table border=\"1\" class=\"dataframe\">\n",
              "  <thead>\n",
              "    <tr style=\"text-align: right;\">\n",
              "      <th></th>\n",
              "      <th>Rank</th>\n",
              "      <th>Title</th>\n",
              "      <th>Genre</th>\n",
              "      <th>Description</th>\n",
              "      <th>Director</th>\n",
              "      <th>Actors</th>\n",
              "      <th>Year</th>\n",
              "      <th>Runtime (Minutes)</th>\n",
              "      <th>Rating</th>\n",
              "      <th>Votes</th>\n",
              "      <th>Revenue (Millions)</th>\n",
              "      <th>Metascore</th>\n",
              "    </tr>\n",
              "  </thead>\n",
              "  <tbody>\n",
              "  </tbody>\n",
              "</table>\n",
              "</div>\n",
              "    <div class=\"colab-df-buttons\">\n",
              "\n",
              "  <div class=\"colab-df-container\">\n",
              "    <button class=\"colab-df-convert\" onclick=\"convertToInteractive('df-215ef7b6-9f62-4746-a58b-6caefb9ae4ac')\"\n",
              "            title=\"Convert this dataframe to an interactive table.\"\n",
              "            style=\"display:none;\">\n",
              "\n",
              "  <svg xmlns=\"http://www.w3.org/2000/svg\" height=\"24px\" viewBox=\"0 -960 960 960\">\n",
              "    <path d=\"M120-120v-720h720v720H120Zm60-500h600v-160H180v160Zm220 220h160v-160H400v160Zm0 220h160v-160H400v160ZM180-400h160v-160H180v160Zm440 0h160v-160H620v160ZM180-180h160v-160H180v160Zm440 0h160v-160H620v160Z\"/>\n",
              "  </svg>\n",
              "    </button>\n",
              "\n",
              "  <style>\n",
              "    .colab-df-container {\n",
              "      display:flex;\n",
              "      gap: 12px;\n",
              "    }\n",
              "\n",
              "    .colab-df-convert {\n",
              "      background-color: #E8F0FE;\n",
              "      border: none;\n",
              "      border-radius: 50%;\n",
              "      cursor: pointer;\n",
              "      display: none;\n",
              "      fill: #1967D2;\n",
              "      height: 32px;\n",
              "      padding: 0 0 0 0;\n",
              "      width: 32px;\n",
              "    }\n",
              "\n",
              "    .colab-df-convert:hover {\n",
              "      background-color: #E2EBFA;\n",
              "      box-shadow: 0px 1px 2px rgba(60, 64, 67, 0.3), 0px 1px 3px 1px rgba(60, 64, 67, 0.15);\n",
              "      fill: #174EA6;\n",
              "    }\n",
              "\n",
              "    .colab-df-buttons div {\n",
              "      margin-bottom: 4px;\n",
              "    }\n",
              "\n",
              "    [theme=dark] .colab-df-convert {\n",
              "      background-color: #3B4455;\n",
              "      fill: #D2E3FC;\n",
              "    }\n",
              "\n",
              "    [theme=dark] .colab-df-convert:hover {\n",
              "      background-color: #434B5C;\n",
              "      box-shadow: 0px 1px 3px 1px rgba(0, 0, 0, 0.15);\n",
              "      filter: drop-shadow(0px 1px 2px rgba(0, 0, 0, 0.3));\n",
              "      fill: #FFFFFF;\n",
              "    }\n",
              "  </style>\n",
              "\n",
              "    <script>\n",
              "      const buttonEl =\n",
              "        document.querySelector('#df-215ef7b6-9f62-4746-a58b-6caefb9ae4ac button.colab-df-convert');\n",
              "      buttonEl.style.display =\n",
              "        google.colab.kernel.accessAllowed ? 'block' : 'none';\n",
              "\n",
              "      async function convertToInteractive(key) {\n",
              "        const element = document.querySelector('#df-215ef7b6-9f62-4746-a58b-6caefb9ae4ac');\n",
              "        const dataTable =\n",
              "          await google.colab.kernel.invokeFunction('convertToInteractive',\n",
              "                                                    [key], {});\n",
              "        if (!dataTable) return;\n",
              "\n",
              "        const docLinkHtml = 'Like what you see? Visit the ' +\n",
              "          '<a target=\"_blank\" href=https://colab.research.google.com/notebooks/data_table.ipynb>data table notebook</a>'\n",
              "          + ' to learn more about interactive tables.';\n",
              "        element.innerHTML = '';\n",
              "        dataTable['output_type'] = 'display_data';\n",
              "        await google.colab.output.renderOutput(dataTable, element);\n",
              "        const docLink = document.createElement('div');\n",
              "        docLink.innerHTML = docLinkHtml;\n",
              "        element.appendChild(docLink);\n",
              "      }\n",
              "    </script>\n",
              "  </div>\n",
              "\n",
              "\n",
              "    </div>\n",
              "  </div>\n"
            ],
            "application/vnd.google.colaboratory.intrinsic+json": {
              "type": "dataframe",
              "repr_error": "Out of range float values are not JSON compliant: nan"
            }
          },
          "metadata": {},
          "execution_count": 26
        }
      ]
    },
    {
      "cell_type": "code",
      "source": [
        "# Remove all duplicate rows\n",
        "df = df.drop_duplicates()\n",
        "\n",
        "print(\"Shape after removing duplicates:\", df.shape)"
      ],
      "metadata": {
        "colab": {
          "base_uri": "https://localhost:8080/"
        },
        "id": "JiwXC5_HjrsT",
        "outputId": "88e494cf-27b0-4dfb-c9f0-e5e51a4dbda5"
      },
      "execution_count": 25,
      "outputs": [
        {
          "output_type": "stream",
          "name": "stdout",
          "text": [
            "Shape after removing duplicates: (999, 12)\n"
          ]
        }
      ]
    },
    {
      "cell_type": "code",
      "source": [
        "#5) Rename columns (\"Title\" > \"Movie_Title\")\n",
        "df = df.rename(columns={'Title':'Movie_Title'})\n",
        "\n",
        "# Check result\n",
        "print(df.columns)"
      ],
      "metadata": {
        "colab": {
          "base_uri": "https://localhost:8080/"
        },
        "id": "10HS-VhIkqAl",
        "outputId": "5c1dd3c8-5bdf-4772-9d29-c2052fba0cf2"
      },
      "execution_count": 31,
      "outputs": [
        {
          "output_type": "stream",
          "name": "stdout",
          "text": [
            "Index(['Rank', 'Movie_Title', 'Genre', 'Description', 'Director', 'Actors',\n",
            "       'Year', 'Runtime (Minutes)', 'Rating', 'Votes', 'Revenue (Millions)',\n",
            "       'Metascore'],\n",
            "      dtype='object')\n"
          ]
        }
      ]
    },
    {
      "cell_type": "code",
      "source": [
        "#6) Get unique genres\n",
        "\n",
        "#unique_geners =df['Genre'].unique()\n",
        "#print(unique_geners)\n",
        "\n",
        "#lean list of unique genres (individual ones):\n",
        "unique_genres = (\n",
        "    df['Genre']\n",
        "    .str.split(',')     # split by comma\n",
        "    .explode()          # flatten into single rows\n",
        "    .unique()           # get distinct values\n",
        ")\n",
        "print(unique_genres)\n",
        "\n"
      ],
      "metadata": {
        "colab": {
          "base_uri": "https://localhost:8080/"
        },
        "id": "k7x-B4ZglBtW",
        "outputId": "98151821-bfd0-40c6-a716-dae420e1730a"
      },
      "execution_count": 35,
      "outputs": [
        {
          "output_type": "stream",
          "name": "stdout",
          "text": [
            "['Action' 'Adventure' 'Sci-Fi' 'Mystery' 'Horror' 'Thriller' 'Animation'\n",
            " 'Comedy' 'Family' 'Fantasy' 'Drama' 'Music' 'Biography' 'Romance'\n",
            " 'History' 'Crime' 'Western' 'War' 'Musical' 'Sport']\n"
          ]
        }
      ]
    },
    {
      "cell_type": "code",
      "source": [
        "#7) Extract number of genres per movie\n",
        "no_of_genres_per_movie = df['Genre'].str.split(',').str.len()\n",
        "print(no_of_genres_per_movie)"
      ],
      "metadata": {
        "colab": {
          "base_uri": "https://localhost:8080/"
        },
        "id": "0_WzAVt7npTo",
        "outputId": "81bf76d3-2910-49a0-e591-bfb80cb0ba43"
      },
      "execution_count": 38,
      "outputs": [
        {
          "output_type": "stream",
          "name": "stdout",
          "text": [
            "0      3\n",
            "1      3\n",
            "2      2\n",
            "3      3\n",
            "4      3\n",
            "      ..\n",
            "995    3\n",
            "996    1\n",
            "997    3\n",
            "998    2\n",
            "999    3\n",
            "Name: Genre, Length: 999, dtype: int64\n"
          ]
        }
      ]
    },
    {
      "cell_type": "code",
      "source": [
        "# Count number of genres per movie\n",
        "no_of_genres_per_movie = df['Genre'].apply(lambda x: len(x.split(',')))\n",
        "\n",
        "# Add as a new column\n",
        "df['num_genres'] = no_of_genres_per_movie\n",
        "\n",
        "# Preview\n",
        "print(df[['Movie_Title', 'Genre', 'num_genres']].head())"
      ],
      "metadata": {
        "colab": {
          "base_uri": "https://localhost:8080/"
        },
        "id": "BJpF-tIbo3X-",
        "outputId": "d4798f5d-c676-40a5-e972-11f2c5c041b0"
      },
      "execution_count": 39,
      "outputs": [
        {
          "output_type": "stream",
          "name": "stdout",
          "text": [
            "               Movie_Title                     Genre  num_genres\n",
            "0  Guardians of the Galaxy   Action,Adventure,Sci-Fi           3\n",
            "1               Prometheus  Adventure,Mystery,Sci-Fi           3\n",
            "2                    Split           Horror,Thriller           2\n",
            "3                     Sing   Animation,Comedy,Family           3\n",
            "4            Suicide Squad  Action,Adventure,Fantasy           3\n"
          ]
        }
      ]
    },
    {
      "cell_type": "code",
      "source": [
        "#8) Handle missing values in 'Revenue (Millions)' and 'Metascore\n",
        "\n",
        "# Check number of missing values\n",
        "print(df[['Revenue (Millions)', 'Metascore']].isnull().sum())\n",
        "\n"
      ],
      "metadata": {
        "colab": {
          "base_uri": "https://localhost:8080/"
        },
        "id": "_9O5JKoj3f-M",
        "outputId": "e82d8652-10fd-48c9-cb97-af2352d6925d"
      },
      "execution_count": 40,
      "outputs": [
        {
          "output_type": "stream",
          "name": "stdout",
          "text": [
            "Revenue (Millions)    128\n",
            "Metascore              64\n",
            "dtype: int64\n"
          ]
        }
      ]
    },
    {
      "cell_type": "code",
      "source": [
        "# Fill missing revenue with 0 and median\n",
        "df['Revenue (Millions)'] = df['Revenue (Millions)'].fillna(0)\n",
        "df['Metascore'] = df['Metascore'].fillna(df['Metascore'].median())\n",
        "\n",
        "# Check again\n",
        "print(df[['Revenue (Millions)', 'Metascore']].isnull().sum())"
      ],
      "metadata": {
        "colab": {
          "base_uri": "https://localhost:8080/"
        },
        "id": "j9lwo-y-47n-",
        "outputId": "09d275e8-fe8d-49f1-aac8-9c9494ac5fa1"
      },
      "execution_count": 41,
      "outputs": [
        {
          "output_type": "stream",
          "name": "stdout",
          "text": [
            "Revenue (Millions)    0\n",
            "Metascore             0\n",
            "dtype: int64\n"
          ]
        }
      ]
    },
    {
      "cell_type": "code",
      "source": [
        "#9) Top 5 movies by Rating\n",
        "\n",
        "Top_five_rating = df.sort_values(by='Rating', ascending=False).head(5)\n",
        "print(Top_five_rating[['Movie_Title', 'Rating']])"
      ],
      "metadata": {
        "colab": {
          "base_uri": "https://localhost:8080/"
        },
        "id": "FafbxWWB5E0t",
        "outputId": "5034c70d-e470-42d9-984d-90aa3dd8f280"
      },
      "execution_count": 42,
      "outputs": [
        {
          "output_type": "stream",
          "name": "stdout",
          "text": [
            "          Movie_Title  Rating\n",
            "54    The Dark Knight     9.0\n",
            "80          Inception     8.8\n",
            "117            Dangal     8.8\n",
            "96      Kimi no na wa     8.6\n",
            "249  The Intouchables     8.6\n"
          ]
        }
      ]
    },
    {
      "cell_type": "code",
      "source": [
        "#10) Movies with highest/lowest revenue\n",
        "\n",
        "highest_revenue_movie_index = df['Revenue (Millions)'].idxmax()\n",
        "lowest_revenue_movie_index = df['Revenue (Millions)'].idxmin()\n",
        "\n",
        "print(\"Movie with highest revenue : \",df.loc[highest_revenue_movie_index])\n",
        "print(\"\\n\\nMovie with lowest revenue : \",df.loc[lowest_revenue_movie_index])\n",
        "\n",
        "#print(\"Highest revenue movie:\")\n",
        "#print(df.loc[highest_revenue_movie_index, ['Movie_Title', 'Revenue (Millions)']])"
      ],
      "metadata": {
        "colab": {
          "base_uri": "https://localhost:8080/"
        },
        "collapsed": true,
        "id": "v-dTMY9A6tm3",
        "outputId": "d1d2ef9e-fa78-49db-ccba-ef31ec1cd082"
      },
      "execution_count": 49,
      "outputs": [
        {
          "output_type": "stream",
          "name": "stdout",
          "text": [
            "Movie with highest revenue :  Rank                                                                 51\n",
            "Movie_Title                  Star Wars: Episode VII - The Force Awakens\n",
            "Genre                                          Action,Adventure,Fantasy\n",
            "Description           Three decades after the defeat of the Galactic...\n",
            "Director                                                    J.J. Abrams\n",
            "Actors                Daisy Ridley, John Boyega, Oscar Isaac, Domhna...\n",
            "Year                                                               2015\n",
            "Runtime (Minutes)                                                   136\n",
            "Rating                                                              8.1\n",
            "Votes                                                            661608\n",
            "Revenue (Millions)                                               936.63\n",
            "Metascore                                                          81.0\n",
            "num_genres                                                            3\n",
            "Name: 50, dtype: object\n",
            "\n",
            "\n",
            "Movie with lowest revenue :  Rank                                                                  8\n",
            "Movie_Title                                                    Mindhorn\n",
            "Genre                                                            Comedy\n",
            "Description           A has-been actor best known for playing the ti...\n",
            "Director                                                     Sean Foley\n",
            "Actors                Essie Davis, Andrea Riseborough, Julian Barrat...\n",
            "Year                                                               2016\n",
            "Runtime (Minutes)                                                    89\n",
            "Rating                                                              6.4\n",
            "Votes                                                              2490\n",
            "Revenue (Millions)                                                  0.0\n",
            "Metascore                                                          71.0\n",
            "num_genres                                                            1\n",
            "Name: 7, dtype: object\n"
          ]
        }
      ]
    },
    {
      "cell_type": "code",
      "source": [
        "#11) Avg. rating by Director\n",
        "\n",
        "avg_rating_by_director = df.groupby('Director')['Rating'].mean()\n",
        "print(avg_rating_by_director)"
      ],
      "metadata": {
        "colab": {
          "base_uri": "https://localhost:8080/"
        },
        "id": "3CVFpSx473OR",
        "outputId": "8f5dea9f-3fed-4559-eb66-ee63c8cf483d"
      },
      "execution_count": 50,
      "outputs": [
        {
          "output_type": "stream",
          "name": "stdout",
          "text": [
            "Director\n",
            "Aamir Khan             8.50\n",
            "Abdellatif Kechiche    7.80\n",
            "Adam Leon              6.50\n",
            "Adam McKay             7.00\n",
            "Adam Shankman          6.30\n",
            "                       ... \n",
            "Xavier Dolan           7.55\n",
            "Yimou Zhang            6.10\n",
            "Yorgos Lanthimos       7.20\n",
            "Zack Snyder            7.04\n",
            "Zackary Adler          5.10\n",
            "Name: Rating, Length: 644, dtype: float64\n"
          ]
        }
      ]
    },
    {
      "cell_type": "code",
      "source": [
        "#12) Movies per year\n",
        "\n",
        "movies_per_year = df['Year'].value_counts()\n",
        "print(movies_per_year)"
      ],
      "metadata": {
        "colab": {
          "base_uri": "https://localhost:8080/"
        },
        "id": "pW7kJSPX8SyR",
        "outputId": "3f0c1b9a-0797-4775-9811-5524f0c5cdb6"
      },
      "execution_count": 51,
      "outputs": [
        {
          "output_type": "stream",
          "name": "stdout",
          "text": [
            "Year\n",
            "2016    297\n",
            "2015    127\n",
            "2014     98\n",
            "2013     91\n",
            "2012     64\n",
            "2011     63\n",
            "2010     60\n",
            "2007     53\n",
            "2008     52\n",
            "2009     51\n",
            "2006     43\n",
            "Name: count, dtype: int64\n"
          ]
        }
      ]
    },
    {
      "cell_type": "code",
      "source": [
        "#13) Movies with rating > 8 & revenue > 100M\n",
        "\n",
        "filtered_movies = df[(df['Rating'] > 8 )& (df['Revenue (Millions)'] > 100)]\n",
        "print(filtered_movies[['Movie_Title', 'Rating', 'Revenue (Millions)']])"
      ],
      "metadata": {
        "colab": {
          "base_uri": "https://localhost:8080/"
        },
        "id": "XqLhme_R8f1h",
        "outputId": "be25a5e3-4cca-4c8e-f7c4-29aa47ade59f"
      },
      "execution_count": 55,
      "outputs": [
        {
          "output_type": "stream",
          "name": "stdout",
          "text": [
            "                                      Movie_Title  Rating  Revenue (Millions)\n",
            "0                         Guardians of the Galaxy     8.1              333.13\n",
            "6                                      La La Land     8.3              151.06\n",
            "36                                   Interstellar     8.6              187.99\n",
            "50     Star Wars: Episode VII - The Force Awakens     8.1              936.63\n",
            "54                                The Dark Knight     9.0              533.32\n",
            "67                             Mad Max: Fury Road     8.1              153.63\n",
            "74                                       Zootopia     8.1              341.26\n",
            "76                                   The Avengers     8.1              623.28\n",
            "77                           Inglourious Basterds     8.3              120.52\n",
            "80                                      Inception     8.8              292.57\n",
            "82                        The Wolf of Wall Street     8.2              116.87\n",
            "83                                      Gone Girl     8.1              167.74\n",
            "92                                       The Help     8.1              169.71\n",
            "99                                   The Departed     8.5              132.37\n",
            "114  Harry Potter and the Deathly Hallows: Part 2     8.1              380.96\n",
            "124                         The Dark Knight Rises     8.5              448.13\n",
            "138                                Shutter Island     8.1              127.97\n",
            "144                              Django Unchained     8.4              162.80\n",
            "241                                    Inside Out     8.2              356.45\n",
            "427                          The Bourne Ultimatum     8.1              227.14\n",
            "499                                            Up     8.3              292.98\n",
            "634                                        WALL·E     8.4              223.81\n",
            "645                                   Gran Torino     8.2              148.09\n",
            "688                                   Toy Story 3     8.3              414.98\n",
            "772                      How to Train Your Dragon     8.1              217.39\n"
          ]
        }
      ]
    },
    {
      "cell_type": "code",
      "source": [
        "#14) Group by Director: avg Rating, Revenue\n",
        "\n",
        "Group_by_Director = df.groupby('Director')[['Rating', 'Revenue (Millions)']].mean()\n",
        "print(Group_by_Director)"
      ],
      "metadata": {
        "colab": {
          "base_uri": "https://localhost:8080/"
        },
        "id": "LEhqVI-R9bb8",
        "outputId": "35ce1d8b-a3c6-476c-fc71-a69f4789c8fd"
      },
      "execution_count": 57,
      "outputs": [
        {
          "output_type": "stream",
          "name": "stdout",
          "text": [
            "                     Rating  Revenue (Millions)\n",
            "Director                                       \n",
            "Aamir Khan             8.50               1.200\n",
            "Abdellatif Kechiche    7.80               2.200\n",
            "Adam Leon              6.50               0.000\n",
            "Adam McKay             7.00             109.535\n",
            "Adam Shankman          6.30              78.665\n",
            "...                     ...                 ...\n",
            "Xavier Dolan           7.55               1.745\n",
            "Yimou Zhang            6.10              45.130\n",
            "Yorgos Lanthimos       7.20               4.405\n",
            "Zack Snyder            7.04             195.148\n",
            "Zackary Adler          5.10               6.530\n",
            "\n",
            "[644 rows x 2 columns]\n"
          ]
        }
      ]
    },
    {
      "cell_type": "code",
      "source": [
        "#15) Group by Year: count, avg Rating\n",
        "\n",
        "Group_by_Year = df.groupby('Year').agg({'Rating': 'mean', 'Movie_Title': 'count'})\n",
        "print(Group_by_Year)"
      ],
      "metadata": {
        "colab": {
          "base_uri": "https://localhost:8080/"
        },
        "id": "8AC7yIKC-fue",
        "outputId": "c5ddc6aa-f628-4281-fea2-001b26ed5fe9"
      },
      "execution_count": 59,
      "outputs": [
        {
          "output_type": "stream",
          "name": "stdout",
          "text": [
            "        Rating  Movie_Title\n",
            "Year                       \n",
            "2006  7.127907           43\n",
            "2007  7.133962           53\n",
            "2008  6.784615           52\n",
            "2009  6.960784           51\n",
            "2010  6.826667           60\n",
            "2011  6.838095           63\n",
            "2012  6.925000           64\n",
            "2013  6.812088           91\n",
            "2014  6.837755           98\n",
            "2015  6.602362          127\n",
            "2016  6.436700          297\n"
          ]
        }
      ]
    },
    {
      "cell_type": "code",
      "source": [
        "#16) Create a new column Profitability:\n",
        "#a) Revenue divided by Duration\n",
        "#b) Find top 10 most profitable movies\n",
        "\n",
        "df['Profitability'] = df['Revenue (Millions)']/df['Runtime (Minutes)']\n",
        "top_10_profitable_movies = df.sort_values(by = 'Profitability',ascending = False).head(10)\n",
        "print(top_10_profitable_movies[['Movie_Title' , 'Profitability']])"
      ],
      "metadata": {
        "colab": {
          "base_uri": "https://localhost:8080/"
        },
        "id": "Ztns4EnR_XUO",
        "outputId": "7fb324d2-5cf5-4bf6-c527-6ceaf3bef1ce"
      },
      "execution_count": 61,
      "outputs": [
        {
          "output_type": "stream",
          "name": "stdout",
          "text": [
            "                                    Movie_Title  Profitability\n",
            "50   Star Wars: Episode VII - The Force Awakens       6.886985\n",
            "85                               Jurassic World       5.259516\n",
            "119                                Finding Dory       5.013299\n",
            "87                                       Avatar       4.694506\n",
            "76                                 The Avengers       4.358601\n",
            "15                      The Secret Life of Pets       4.233448\n",
            "688                                 Toy Story 3       4.028932\n",
            "12                                    Rogue One       4.001278\n",
            "174                                      Frozen       3.928824\n",
            "797                             Despicable Me 2       3.755612\n"
          ]
        }
      ]
    },
    {
      "cell_type": "code",
      "source": [
        "#17) Create a column that categorizes movies by rating:\n",
        "#a) Rating < 6: Poor\n",
        "#b) 6 ≤ Rating < 7.5: Average\n",
        "#c) Rating ≥ 7.5: Excellent\n",
        "\n",
        "# Define function\n",
        "def categorize_rating(r):\n",
        "    if r < 6:\n",
        "        return 'Poor'\n",
        "    elif r < 7.5:\n",
        "        return 'Average'\n",
        "    else:\n",
        "        return 'Excellent'\n",
        "\n",
        "# Apply function\n",
        "df['Rating_Category'] = df['Rating'].apply(categorize_rating)\n",
        "\n",
        "# Preview\n",
        "print(df[['Movie_Title', 'Rating', 'Rating_Category']].head(10))"
      ],
      "metadata": {
        "colab": {
          "base_uri": "https://localhost:8080/"
        },
        "id": "GnztKj90Am5u",
        "outputId": "fffd5fc2-9d93-4d3d-e10c-afa4d977346f"
      },
      "execution_count": 62,
      "outputs": [
        {
          "output_type": "stream",
          "name": "stdout",
          "text": [
            "               Movie_Title  Rating Rating_Category\n",
            "0  Guardians of the Galaxy     8.1       Excellent\n",
            "1               Prometheus     7.0         Average\n",
            "2                    Split     7.3         Average\n",
            "3                     Sing     7.2         Average\n",
            "4            Suicide Squad     6.2         Average\n",
            "5           The Great Wall     6.1         Average\n",
            "6               La La Land     8.3       Excellent\n",
            "7                 Mindhorn     6.4         Average\n",
            "8       The Lost City of Z     7.1         Average\n",
            "9               Passengers     7.0         Average\n"
          ]
        }
      ]
    },
    {
      "cell_type": "code",
      "source": [
        "#18) Create a custom function to score movies based on:\n",
        "#i) Apply row['Rating'] * 10 + row['Revenue (Millions)'] as High score\n",
        "#Apply a function to dataset to assign the score\n",
        "\n",
        "\n",
        "def score_movie(row):\n",
        "  return row['Rating'] * 10 + row['Revenue (Millions)']\n",
        "\n",
        "df['score'] = df.apply(score_movie , axis =1)\n",
        "print(df[['Movie_Title', 'score']])"
      ],
      "metadata": {
        "colab": {
          "base_uri": "https://localhost:8080/"
        },
        "id": "jwhIMkZhBZHA",
        "outputId": "75e43dca-d1fd-4d09-87d3-b9934ddcb86f"
      },
      "execution_count": 64,
      "outputs": [
        {
          "output_type": "stream",
          "name": "stdout",
          "text": [
            "                 Movie_Title   score\n",
            "0    Guardians of the Galaxy  414.13\n",
            "1                 Prometheus  196.46\n",
            "2                      Split  211.12\n",
            "3                       Sing  342.32\n",
            "4              Suicide Squad  387.02\n",
            "..                       ...     ...\n",
            "995     Secret in Their Eyes   62.00\n",
            "996          Hostel: Part II   72.54\n",
            "997   Step Up 2: The Streets  120.01\n",
            "998             Search Party   56.00\n",
            "999               Nine Lives   72.64\n",
            "\n",
            "[999 rows x 2 columns]\n"
          ]
        }
      ]
    },
    {
      "cell_type": "code",
      "source": [],
      "metadata": {
        "id": "ZMe9mABACXTU"
      },
      "execution_count": null,
      "outputs": []
    }
  ]
}