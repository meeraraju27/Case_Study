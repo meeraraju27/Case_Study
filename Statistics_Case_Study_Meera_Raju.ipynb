{
  "nbformat": 4,
  "nbformat_minor": 0,
  "metadata": {
    "colab": {
      "provenance": [],
      "collapsed_sections": [
        "n8xQjHuQtWIH",
        "M6yO6jIHthNa",
        "A6JNmAzNwvms",
        "lJ10IQa5zmCr",
        "WQCX4oP_4CGB",
        "AyF6WVXH8sv0",
        "l8LY5xD4Bh9v",
        "iIqtPMkQC81x",
        "2A0xUgaaMEHL",
        "6u-GZx33PrXZ",
        "tGBbM3X3SUW-"
      ],
      "authorship_tag": "ABX9TyPM2lGdA2giTryhaQBUOoop",
      "include_colab_link": true
    },
    "kernelspec": {
      "name": "python3",
      "display_name": "Python 3"
    },
    "language_info": {
      "name": "python"
    }
  },
  "cells": [
    {
      "cell_type": "markdown",
      "metadata": {
        "id": "view-in-github",
        "colab_type": "text"
      },
      "source": [
        "<a href=\"https://colab.research.google.com/github/meeraraju27/Case_Study/blob/main/Statistics_Case_Study_Meera_Raju.ipynb\" target=\"_parent\"><img src=\"https://colab.research.google.com/assets/colab-badge.svg\" alt=\"Open In Colab\"/></a>"
      ]
    },
    {
      "cell_type": "markdown",
      "source": [
        "###1. Dataset: Monthly temperatures in a city (in °C): 12, 15, 14, 16, 18, 20, 22, 19,17, 15, 13, 10 Questions:\n",
        "a) Calculate the mean temperature.\n",
        "b) Calculate the median temperature.\n",
        "c) Find the mode of the temperature data.\n",
        "d) Range and Variance\n",
        "\n"
      ],
      "metadata": {
        "id": "n8xQjHuQtWIH"
      }
    },
    {
      "cell_type": "code",
      "execution_count": 2,
      "metadata": {
        "colab": {
          "base_uri": "https://localhost:8080/"
        },
        "id": "hIZEYEpulXrC",
        "outputId": "1bab7f75-5e98-424d-859c-66599027e5b3"
      },
      "outputs": [
        {
          "output_type": "stream",
          "name": "stdout",
          "text": [
            "Mean Temperature: 15.92 °C\n",
            "Median Temperature: 15.5 °C\n",
            "Mode Temperature: [15]\n",
            "Range of Temperature: 12 °C\n",
            "Variance of Temperature: 11.08\n"
          ]
        }
      ],
      "source": [
        "\n",
        "\n",
        "temperatures = [12, 15, 14, 16, 18, 20, 22, 19,17, 15, 13, 10]\n",
        "# a) Mean\n",
        "mean_temp = sum(temperatures) / len(temperatures)\n",
        "\n",
        "# b) Median\n",
        "sorted_temps = sorted(temperatures)\n",
        "n = len(sorted_temps)\n",
        "if n % 2 == 0:  # even count → average of two middle values\n",
        "    median_temp = (sorted_temps[n//2 - 1] + sorted_temps[n//2]) / 2\n",
        "else:           # odd count → middle value\n",
        "    median_temp = sorted_temps[n//2]\n",
        "\n",
        "# c) Mode\n",
        "freq = {}\n",
        "for num in temperatures:\n",
        "  if num in freq:\n",
        "      freq[num] += 1\n",
        "  else:\n",
        "      freq[num] = 1\n",
        "\n",
        "# Find maximum frequency\n",
        "max_count = max(freq.values())\n",
        "\n",
        "#if no mod exist\n",
        "if max_count == 1:\n",
        "  mode_temp = None\n",
        "#Find all numbers with frequency == max_count\n",
        "mode_temp = []\n",
        "for num, count in freq.items():\n",
        "    if count == max_count:\n",
        "        mode_temp.append(num)\n",
        "\n",
        "#d)range\n",
        "range_temp = max(temperatures) - min(temperatures)\n",
        "\n",
        "#e)variance\n",
        "#Calculate sum of squared differences\n",
        "summation = 0\n",
        "for i in temperatures:\n",
        "  summation = summation + (i - mean_temp)**2\n",
        "variance_temp = summation / len(temperatures)\n",
        "\n",
        "# Print results\n",
        "print(f\"Mean Temperature: {mean_temp:.2f} °C\")\n",
        "print(f\"Median Temperature: {median_temp} °C\")\n",
        "print(f\"Mode Temperature: {mode_temp}\")\n",
        "print(f\"Range of Temperature: {range_temp} °C\")\n",
        "print(f\"Variance of Temperature: {variance_temp:.2f}\")"
      ]
    },
    {
      "cell_type": "markdown",
      "source": [
        "###2. Dataset: Heights of students (in cm): 150, 160, 165, 170, 155, 160, 162, 168\n",
        "Questions: a) Calculate the range of the heights.\n",
        "b) Calculate the variance of the heights.\n",
        "c) Standard Deviation\n"
      ],
      "metadata": {
        "id": "M6yO6jIHthNa"
      }
    },
    {
      "cell_type": "code",
      "source": [
        "###2. Dataset: Heights of students (in cm): 150, 160, 165, 170, 155, 160, 162, 168\n",
        "###a) Calculate the range of the heights.\n",
        "###b) Calculate the variance of the heights.\n",
        "###c) Standard Deviation\n",
        "\n",
        "\n",
        "Heights = [150, 160, 165, 170, 155, 160, 162, 168]\n",
        "\n",
        "#a)range of the heights.\n",
        "range_heights = max(Heights)- min(Heights)\n",
        "\n",
        "#b)variance of the heights.\n",
        "mean_height = sum(Heights) / len(Heights)\n",
        "sum_height = 0\n",
        "for i in Heights:\n",
        "  sum_height = sum_height + (i - mean_height)**2\n",
        "variance_height = sum_height / len(Heights)\n",
        "std_height = variance_height**0.5\n",
        "\n",
        "print(f\"Range of Heights: {range_heights} cm\")\n",
        "print(f\"Variance of Heights: {variance_height:.2f} cm\")\n",
        "print(f\"Standard Deviation of Heights: {std_height:.2f} cm\")\n"
      ],
      "metadata": {
        "colab": {
          "base_uri": "https://localhost:8080/"
        },
        "id": "qCWFQgiDs0qT",
        "outputId": "a2fe29b5-727b-4e02-ac2c-1e8b0149e27f"
      },
      "execution_count": 5,
      "outputs": [
        {
          "output_type": "stream",
          "name": "stdout",
          "text": [
            "Range of Heights: 20 cm\n",
            "Variance of Heights: 38.19 cm\n",
            "Standard Deviation of Heights: 6.18 cm\n"
          ]
        }
      ]
    },
    {
      "cell_type": "markdown",
      "source": [
        "###3. Dataset: Weekly expenses (in $): 200, 250, 300, 220, 270, 290, 310\n",
        "Questions: a) Calculate the standard deviation of the weekly expenses."
      ],
      "metadata": {
        "id": "A6JNmAzNwvms"
      }
    },
    {
      "cell_type": "code",
      "source": [
        "\n",
        "Weekly_expense = [200, 250, 300, 220, 270, 290, 310]\n",
        "\n",
        "mean_expense = sum(Weekly_expense) / len(Weekly_expense)\n",
        "sum_expense = 0\n",
        "for i in Weekly_expense:\n",
        "  sum_expense = sum_expense + (i - mean_expense)**2\n",
        "variance_expense = sum_expense / len(Weekly_expense)\n",
        "std_expense = variance_expense ** 0.5\n",
        "\n",
        "\n",
        "print(f\"Standard Deviation of Weekly Expenses: {std_expense:.2f}\")"
      ],
      "metadata": {
        "colab": {
          "base_uri": "https://localhost:8080/"
        },
        "id": "a3GCM4EEvvJZ",
        "outputId": "159b548d-f9bd-49f6-e143-9b4b2e21a289"
      },
      "execution_count": 8,
      "outputs": [
        {
          "output_type": "stream",
          "name": "stdout",
          "text": [
            "Standard Deviation of Weekly Expenses: 38.44\n"
          ]
        }
      ]
    },
    {
      "cell_type": "markdown",
      "source": [
        "###4. Dataset: Advertising Spending (in $1000s): 10, 20, 15, 25, 30; Sales (in\n",
        "$1000s): 100, 150, 120, 180, 200\n",
        "Questions: a) Calculate the covariance between advertising spending and sales.\n",
        "b) Correlation\n"
      ],
      "metadata": {
        "id": "lJ10IQa5zmCr"
      }
    },
    {
      "cell_type": "code",
      "source": [
        "import statistics as stats\n",
        "advertising = [10,20,15,25,30]\n",
        "sales = [100,150,120,180,200]\n",
        "\n",
        "cov_ad_sales = stats.covariance(advertising,sales) #sample covarience(n-1)\n",
        "\n",
        "corr_ad_sales = cov_ad_sales / (stats.stdev(advertising) * stats.stdev(sales))\n",
        "\n",
        "print(f\"Covariance between Advertising Spending and Sales: {cov_ad_sales:.2f}\")\n",
        "print(f\"Correlation between Advertising Spending and Sales: {corr_ad_sales}\")"
      ],
      "metadata": {
        "colab": {
          "base_uri": "https://localhost:8080/"
        },
        "id": "LwpRZPKSzwyP",
        "outputId": "5cfae2d7-379c-44c6-cd4c-0d057c7cec43"
      },
      "execution_count": 12,
      "outputs": [
        {
          "output_type": "stream",
          "name": "stdout",
          "text": [
            "Covariance between Advertising Spending and Sales: 325.00\n",
            "Correlation between Advertising Spending and Sales: 0.9970544855015816\n"
          ]
        }
      ]
    },
    {
      "cell_type": "markdown",
      "source": [
        "###5. Dataset: Study Hours: 2, 4, 6, 8, 10; Exam Scores: 55, 60, 65, 70, 75\n",
        "Questions: a) Calculate the correlation coefficient between study hours and exam\n",
        "scores.\n",
        "b) Interpret the result.\n",
        "c) Quartiles and IQR\n"
      ],
      "metadata": {
        "id": "WQCX4oP_4CGB"
      }
    },
    {
      "cell_type": "code",
      "source": [
        "import statistics as stats\n",
        "study_hours = [2,4,6,8,10]\n",
        "exam_scores = [55,60,65,70,75]\n",
        "\n",
        "#correlation coefficient\n",
        "corr_sh_es = stats.correlation(study_hours,exam_scores)\n",
        "\n",
        "#Quartiles and IQR of exam_scores\n",
        "Q1 = stats.quantiles(exam_scores)[0]\n",
        "Q2 = stats.quantiles(exam_scores)[1]\n",
        "Q3 = stats.quantiles(exam_scores)[2]\n",
        "IQR = Q3 - Q1\n",
        "\n",
        "\n",
        "print(f\"Quartiles of Exam Scores: Q1 = {Q1}, Q2 = {Q2}, Q3 = {Q3}\")\n",
        "print(f\"IQR of Exam Scores: {IQR}\\n\")\n",
        "\n",
        "#Quartiles and IQR of study_hours\n",
        "Q1 = stats.quantiles(study_hours)[0]\n",
        "Q2 = stats.quantiles(study_hours)[1]\n",
        "Q3 = stats.quantiles(study_hours)[2]\n",
        "IQR = Q3 - Q1\n",
        "\n",
        "print(f\"Quartiles of Study Hours: Q1 = {Q1}, Q2 = {Q2}, Q3 = {Q3}\")\n",
        "print(f\"IQR of Study Hours: {IQR}\\n\")\n",
        "\n",
        "print(f\"Correlation between Study Hours and Exam Scores: {corr_sh_es}\")\n",
        "print(\"Interpretation: Strong positive correlation (as study hours increase, exam scores increase).\")\n"
      ],
      "metadata": {
        "colab": {
          "base_uri": "https://localhost:8080/"
        },
        "id": "xxNbzhXI4D1N",
        "outputId": "85ec22d3-21e5-454e-8fb4-201a9b28b8b7"
      },
      "execution_count": 17,
      "outputs": [
        {
          "output_type": "stream",
          "name": "stdout",
          "text": [
            "Quartiles of Exam Scores: Q1 = 57.5, Q2 = 65.0, Q3 = 72.5\n",
            "IQR of Exam Scores: 15.0\n",
            "\n",
            "Quartiles of Study Hours: Q1 = 3.0, Q2 = 6.0, Q3 = 9.0\n",
            "IQR of Study Hours: 6.0\n",
            "\n",
            "Correlation between Study Hours and Exam Scores: 1.0\n",
            "Interpretation: Strong positive correlation (as study hours increase, exam scores increase).\n"
          ]
        }
      ]
    },
    {
      "cell_type": "markdown",
      "source": [
        "###6. Dataset: Monthly savings (in $): 200, 300, 400, 500, 600, 700, 800, 900 1000,1100\n",
        "Questions: a) Calculate the first quartile (Q1) and third quartile (Q3).\n",
        "b) Calculate the interquartile range (IQR).\n",
        "c) Detecting Outliers"
      ],
      "metadata": {
        "id": "AyF6WVXH8sv0"
      }
    },
    {
      "cell_type": "code",
      "source": [
        "import statistics as stats\n",
        "monthly_savings = [200, 300, 400, 500, 600, 700, 800, 900 ,1000,1100]\n",
        "\n",
        "Q1_ms = stats.quantiles(monthly_savings)[0]\n",
        "Q3_ms = stats.quantiles(monthly_savings)[2]\n",
        "IQR_ms = Q3_ms - Q1_ms\n",
        "\n",
        "lower_limit_ms = Q1_ms - IQR_ms*1.5\n",
        "Upper_limit_ms = Q3_ms + IQR_ms*1.5\n",
        "\n",
        "print(f\"IQR = {IQR_ms}\")\n",
        "print(f\"Lower Limit = {lower_limit_ms}\")\n",
        "print(f\"Upper Limit = {Upper_limit_ms}\")\n",
        "\n",
        "# Initialize outlier as an empty list\n",
        "outliers = []\n",
        "for x in monthly_savings:\n",
        "  if x < lower_limit_ms or x > Upper_limit_ms:\n",
        "    outliers.append(x)\n",
        "\n",
        "if outliers:\n",
        "  print(\"outliers detected :\",outliers)\n",
        "else:\n",
        "  print(\"No outliers detected\")\n",
        "\n"
      ],
      "metadata": {
        "colab": {
          "base_uri": "https://localhost:8080/"
        },
        "id": "V5WVQDqy8xdl",
        "outputId": "2c62513b-38a5-4ba1-de86-560f2d8e8316"
      },
      "execution_count": 23,
      "outputs": [
        {
          "output_type": "stream",
          "name": "stdout",
          "text": [
            "IQR = 550.0\n",
            "Lower Limit = -450.0\n",
            "Upper Limit = 1750.0\n",
            "No outliers detected\n"
          ]
        }
      ]
    },
    {
      "cell_type": "markdown",
      "source": [
        "###7. Dataset: Ages of employees: 22, 25, 28, 30, 35, 40, 45, 50, 55, 100\n",
        "Questions: a) Identify any outliers using the IQR method."
      ],
      "metadata": {
        "id": "l8LY5xD4Bh9v"
      }
    },
    {
      "cell_type": "code",
      "source": [
        "import statistics as stats\n",
        "ages = [22, 25, 28, 30, 35, 40, 45, 50, 55, 100]\n",
        "\n",
        "Q1_ages = stats.quantiles(ages)[0]\n",
        "Q3_ages = stats.quantiles(ages)[2]\n",
        "IQR_ages = Q3_ages - Q1_ages\n",
        "\n",
        "lower_limit_ages = Q1_ages - IQR_ages*1.5\n",
        "Upper_limit_ages = Q3_ages + IQR_ages*1.5\n",
        "\n",
        "print(f\"IQR = {IQR_ages}\")\n",
        "print(f\"Lower Limit = {lower_limit_ages}\")\n",
        "print(f\"Upper Limit = {Upper_limit_ages}\")\n",
        "\n",
        "# Initialize outlier as an empty list\n",
        "outliers = []\n",
        "for x in ages:\n",
        "  if x < lower_limit_ages or x > Upper_limit_ages:\n",
        "    outliers.append(x)\n",
        "\n",
        "if outliers:\n",
        "  print(\"outliers detected :\",outliers)\n",
        "else:\n",
        "  print(\"No outliers detected\")\n",
        ""
      ],
      "metadata": {
        "colab": {
          "base_uri": "https://localhost:8080/"
        },
        "id": "ZbD7XQR6-Ngu",
        "outputId": "b5094124-dff2-474a-f8e3-e88743fcf7de"
      },
      "execution_count": 24,
      "outputs": [
        {
          "output_type": "stream",
          "name": "stdout",
          "text": [
            "IQR = 24.0\n",
            "Lower Limit = -8.75\n",
            "Upper Limit = 87.25\n",
            "outliers detected : [100]\n"
          ]
        }
      ]
    },
    {
      "cell_type": "markdown",
      "source": [
        "###8. Dataset: Observed frequencies of customer preferences for three products:\n",
        "Product A: 50, 55, 60\n",
        "\n",
        "Product B: 30, 25, 35\n",
        "\n",
        "Product C: 20, 20, 25\n",
        "\n",
        "Questions: a) Perform a chi-square test to determine if there is a significant\n",
        "difference in customer preferences among the three products. b) Hypothesis\n",
        "Testing\n"
      ],
      "metadata": {
        "id": "m64XrVdbCe4i"
      }
    },
    {
      "cell_type": "code",
      "source": [],
      "metadata": {
        "id": "Hw8PsKfGCm3x"
      },
      "execution_count": null,
      "outputs": []
    },
    {
      "cell_type": "markdown",
      "source": [
        "###9. Dataset: Sample weights (in kg) of a new diet program: 70, 68, 72, 71, 69, 73,72, 74, 70, 71\n",
        "Questions:\n",
        " a) Test the hypothesis that the mean weight after the\n",
        "diet program is equal to 70 kg at a 5% significance level. b) Z-Scores\n"
      ],
      "metadata": {
        "id": "iIqtPMkQC81x"
      }
    },
    {
      "cell_type": "code",
      "source": [
        "import statistics as stats\n",
        "import math\n",
        "\n",
        "weights = [70, 68, 72, 71, 69, 73,72, 74, 70, 71]\n",
        "\n",
        "#Step 1: Define hypotheses\n",
        "#--Null H0 : mu = 70\n",
        "#--Alternative H1 : mu != 70 (two tailed)\n",
        "\n",
        "#Step 2: Sample statistics\n",
        "sample_mean = stats.mean(weights)\n",
        "sample_std = stats.stdev(weights)\n",
        "sample_len = len(weights)\n",
        "\n",
        "#Step 3: Test statistic(t-test))\n",
        "t_test = (sample_mean - 70) / (sample_std / math.sqrt(sample_len))\n",
        "print(f\"t-statistic: {t_test:.2f}\")\n",
        "\n",
        "#Step 4: Decision\n",
        "#Degrees of freedom: df = n-1 = 9\n",
        "#α = 0.05\n",
        "#2.262 (from t-table)\n",
        "critical_t = 2.262\n",
        "\n",
        "# Decision\n",
        "if abs(t_test) > critical_t:\n",
        "    decision = \"Reject H0 (mean is significantly different from 70)\"\n",
        "else:\n",
        "    decision = \"Fail to Reject H0 (mean is not significantly different from 70)\"\n",
        "print(f\"Decision: {decision}\")\n",
        "\n",
        "#Z-scores for each weight\n",
        "z_scores = [(x - sample_mean) / sample_std for x in weights]\n",
        "\n",
        "#print z score\n",
        "print(\"Z-scores:\")\n",
        "for z in z_scores:\n",
        "    print(f\"{z:.2f}\")"
      ],
      "metadata": {
        "colab": {
          "base_uri": "https://localhost:8080/"
        },
        "id": "7WXLixmRFXM6",
        "outputId": "60c5d983-bfa1-460b-8c88-4bcc3234a5b2"
      },
      "execution_count": 28,
      "outputs": [
        {
          "output_type": "stream",
          "name": "stdout",
          "text": [
            "t-statistic: 1.73\n",
            "Decision: Fail to Reject H0 (mean is not significantly different from 70)\n",
            "Z-scores:\n",
            "-0.55\n",
            "-1.64\n",
            "0.55\n",
            "0.00\n",
            "-1.10\n",
            "1.10\n",
            "0.55\n",
            "1.64\n",
            "-0.55\n",
            "0.00\n"
          ]
        }
      ]
    },
    {
      "cell_type": "markdown",
      "source": [
        "###10. Dataset: Annual salaries of employees (in $1000s): 40, 42, 45, 47, 50, 52, 55,57, 60, 62\n",
        "Questions: a) Calculate the z-scores for each salary.\n",
        "b) Interpret the z-scores.\n",
        "c) Normal Distribution\n"
      ],
      "metadata": {
        "id": "2A0xUgaaMEHL"
      }
    },
    {
      "cell_type": "code",
      "source": [
        "import statistics as stats\n",
        "import math\n",
        "\n",
        "anual_salary = [40, 42, 45, 47, 50, 52, 55,57, 60, 62]\n",
        "\n",
        "#Sample statistics\n",
        "mean_salary = stats.mean(anual_salary)\n",
        "std_salary = stats.stdev(anual_salary)\n",
        "\n",
        "#Z-scores for each salary\n",
        "\n",
        "z_scores = [(x - mean_salary) / std_salary for x in anual_salary]\n",
        "\n",
        "#print z score\n",
        "print(\"Z-scores:\")\n",
        "for z in z_scores:\n",
        "    print(f\"{z:.2f}\")\n",
        "\n"
      ],
      "metadata": {
        "colab": {
          "base_uri": "https://localhost:8080/"
        },
        "id": "5XOgxtK1MKk2",
        "outputId": "9f186636-6887-41ef-e24f-ae32281ee7d8"
      },
      "execution_count": 31,
      "outputs": [
        {
          "output_type": "stream",
          "name": "stdout",
          "text": [
            "Z-scores:\n",
            "-1.46\n",
            "-1.20\n",
            "-0.80\n",
            "-0.53\n",
            "-0.13\n",
            "0.13\n",
            "0.53\n",
            "0.80\n",
            "1.20\n",
            "1.46\n"
          ]
        }
      ]
    },
    {
      "cell_type": "markdown",
      "source": [
        "###11. . Dataset: Scores of students in a standardized test: 85, 87, 90, 92, 95, 97,100, 102, 105, 107\n",
        "Questions:\n",
        "a) Create a histogram of the test scores.\n",
        "b) Fit a normal distribution to the data and calculate the mean and standard\n",
        "deviation.\n",
        "c) P-Values"
      ],
      "metadata": {
        "id": "6u-GZx33PrXZ"
      }
    },
    {
      "cell_type": "code",
      "source": [
        "import math\n",
        "import statistics as stats\n",
        "\n",
        "\n",
        "scores = [85, 87, 90, 92, 95, 97, 100, 102, 105, 107]\n",
        "\n",
        "# b) Fit a normal distribution\n",
        "mean = stats.mean(scores)\n",
        "stdev = stats.stdev(scores)\n",
        "\n",
        "print(f\"Mean : {mean:.2f}\")\n",
        "print(f\"Standard Deviation : {stdev:.2f}\")"
      ],
      "metadata": {
        "colab": {
          "base_uri": "https://localhost:8080/"
        },
        "id": "-BZR5dB5PxX9",
        "outputId": "ed7f8bac-eba6-43f2-c920-4bf69f009be8"
      },
      "execution_count": 34,
      "outputs": [
        {
          "output_type": "stream",
          "name": "stdout",
          "text": [
            "Mean : 96.00\n",
            "Standard Deviation : 7.53\n"
          ]
        }
      ]
    },
    {
      "cell_type": "markdown",
      "source": [
        "###12. Dataset: Sample data of a new drug's effect on blood pressure reductio(in\n",
        "mmHg): 10, 12, 14, 15, 13, 16, 18, 17, 19, 20\n",
        "Questions: a) Perform a t-test to determine if the new drug has a significant effect\n",
        "on blood pressure reduction. b) Report the p-value and interpret the results. c)\n",
        "Confidence Intervals\n"
      ],
      "metadata": {
        "id": "tGBbM3X3SUW-"
      }
    },
    {
      "cell_type": "code",
      "source": [
        "import math\n",
        "import statistics as stats\n",
        "\n",
        "blood_pressure = [10, 12, 14, 15, 13, 16, 18, 17, 19, 20]\n",
        "#Step 1: Define hypotheses\n",
        "#--Null H0 : mean reduction = 0 (no effect)\n",
        "#--Alternative H1 : mean reduction > 0 (drug is effective).\n",
        "\n",
        "#Step 2: Sample statistics\n",
        "mean_bp = stats.mean(blood_pressure)\n",
        "stdev_bp = stats.stdev(blood_pressure)\n",
        "\n",
        "#Step 3: Test statistic(t-test))\n",
        "t_test = (mean_bp - 0) / (stdev_bp / math.sqrt(len(blood_pressure)))\n",
        "print(f\"t-statistic: {t_test:.2f}\")\n",
        "\n",
        "#Step 4: Decision\n",
        "#Degrees of freedom: df = n-1 = 9\n",
        "#α = 0.05\n",
        "#2.262 (from t-table)\n",
        "critical_t = 2.262\n",
        "\n",
        "\n"
      ],
      "metadata": {
        "colab": {
          "base_uri": "https://localhost:8080/"
        },
        "id": "df2TFsMpSts4",
        "outputId": "f584c267-1b9b-4fae-8e11-14147c7a2095"
      },
      "execution_count": 37,
      "outputs": [
        {
          "output_type": "stream",
          "name": "stdout",
          "text": [
            "t-statistic: 15.20\n"
          ]
        }
      ]
    }
  ]
}